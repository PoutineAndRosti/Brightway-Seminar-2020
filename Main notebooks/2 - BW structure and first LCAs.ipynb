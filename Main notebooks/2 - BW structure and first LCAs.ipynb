{
 "cells": [
  {
   "cell_type": "markdown",
   "metadata": {
    "solution": "hidden"
   },
   "source": [
    "# Brightway2 seminar\n",
    "Chris Mutel ([PSI](https://www.psi.ch/)), Pascal Lesage ([CIRAIG](http://www.ciraig.org/en/))"
   ]
  },
  {
   "cell_type": "markdown",
   "metadata": {},
   "source": [
    "## Day 1, morning"
   ]
  },
  {
   "cell_type": "markdown",
   "metadata": {},
   "source": [
    "### Learning objectives  \n",
    "  - Learn about the general structure of Brightway and its most importand abstractions: projects, databases, activities and exchanges  \n",
    "  - Learn how to find objects (notably activities and exchanges), assign them to variables and work with them using their associated methods  \n",
    "  - Learn about how simple LCA calculations are done (one product, one impact category), and specifically how the different matrices are built and used  \n",
    "  - Learn how to extract information from the matrices (inputs or results) and translate them into nice, human-readable objects  \n",
    "  - Learn different ways to carry out comparative LCAs  \n",
    "  - Learn different ways to carry out LCAs with multiple impact categories"
   ]
  },
  {
   "cell_type": "markdown",
   "metadata": {},
   "source": [
    "### Content  \n",
    "\n",
    "#### 1) Getting started  \n",
    "##### 1.1) Downloading, installing and accessing Brightway2  \n",
    "  - Downloading and installing Brightway  \n",
    "  - Accessing Brightway2 libraries  \n",
    "  \n",
    "##### 1.2) Projects  \n",
    "  - Concept  \n",
    "  - Creating a new project, or switching to an existing project  \n",
    "  - Contents of a project  \n",
    "\n",
    "  \n",
    "##### 1.3) bw2_setup(), biosphere3 database and LCIA methods  \n",
    "  - bw2_setup()  \n",
    "  - biosphere3 database and a first look at database objects  \n",
    "  - Getting activities from codes or keys  \n",
    "  - Methods  \n",
    "  - Looking up elementary flows (list comprehensions, search)  \n",
    "  - Searching for methods  \n",
    "  - Nice display of data in methods \n",
    "\n",
    "##### 1.4) LCI databases  \n",
    "  - Importing (succinct)  \n",
    "  - LCI activities  \n",
    "  - Looking up activities  \n",
    "  - LCI exchanges\n",
    "  - Loaded LCI databases\n",
    "  \n",
    "#### 2) My first LCA - simplest case:  \n",
    "##### 2.1) General syntax of LCA calculations  \n",
    "\n",
    "##### 2.2) The `demand` attribute  \n",
    "\n",
    "##### 2.3) Reminder of the system that needs to be solved in calculating an LCI  \n",
    "\n",
    "##### 2.4) Building the matrices  \n",
    "\n",
    "  - $A$ matrix  \n",
    "  - $B$ matrix  \n",
    "  - $f$ (demand array)  \n",
    "  \n",
    "##### 2.5) Solution to the inventory calculation  \n",
    "\n",
    "  - Supply array  \n",
    "  - Inventory matrix  \n",
    "  \n",
    "##### 2.6) Life Cycle Impact Assessment  \n",
    "\n",
    "  - `.lcia()` method  \n",
    "  - Simple contribution analysis  \n",
    "  \n",
    "#### 3) My second LCA - comparative LCA:\n",
    "    \n",
    "#### 4) My third LCA - Multiple impact categories\n",
    "  \n",
    "#### 5) My first and third LCAs revisited with MultiLCA"
   ]
  },
  {
   "cell_type": "markdown",
   "metadata": {},
   "source": [
    "### 1) Getting started"
   ]
  },
  {
   "cell_type": "markdown",
   "metadata": {},
   "source": [
    "Like all other Python packages, you need to `import` Brightway2 modules. We will here import it as `bw`. This means that, to access a method or function from the brightway2 modules, the prefix `bw.` needs to be added. "
   ]
  },
  {
   "cell_type": "code",
   "execution_count": 1,
   "metadata": {},
   "outputs": [],
   "source": [
    "import brightway2 as bw"
   ]
  },
  {
   "cell_type": "markdown",
   "metadata": {},
   "source": [
    "We're also going to be using the following libraries:"
   ]
  },
  {
   "cell_type": "code",
   "execution_count": 2,
   "metadata": {},
   "outputs": [],
   "source": [
    "import os               # to use \"operating system dependent functionality\"\n",
    "import numpy as np      # \"the fundamental package for scientific computing with Python\"\n",
    "import pandas as pd     # \"high-performance, easy-to-use data structures and data analysis tools\" for Python"
   ]
  },
  {
   "cell_type": "markdown",
   "metadata": {},
   "source": [
    "#### 1.2) Projects"
   ]
  },
  {
   "cell_type": "markdown",
   "metadata": {},
   "source": [
    "##### Concept"
   ]
  },
  {
   "cell_type": "markdown",
   "metadata": {},
   "source": [
    "The top-level containent in Brightway2 is the project (see [here](https://docs.brightwaylca.org/intro.html#projects) for a description and [here](https://docs.brightwaylca.org/technical/bw2data.html#projects) for the docs). A project contains LCI databases, LCIA methods and other less often used objects. Objects from one project do not interract with objects within other projects. By analogy, projects are like databases in openLCA and SimePro.  \n",
    "When you first launch Brightway2, you will be in the `default` project. You can check this using the `current` property of the `projects` object: "
   ]
  },
  {
   "cell_type": "code",
   "execution_count": 3,
   "metadata": {},
   "outputs": [
    {
     "data": {
      "text/plain": [
       "'default'"
      ]
     },
     "execution_count": 3,
     "metadata": {},
     "output_type": "execute_result"
    }
   ],
   "source": [
    "bw.projects.current"
   ]
  },
  {
   "cell_type": "markdown",
   "metadata": {},
   "source": [
    "##### Creating a new project, or switching to an existing project"
   ]
  },
  {
   "cell_type": "markdown",
   "metadata": {},
   "source": [
    "Let's create a new project for this seminar, unsurprisingly called \"bw2_class_2020_intro\". There are two ways of doing this:  \n",
    "* `projects.create_project('bw2_class_2020_intro')` will create the project, but you will remain in your current project.\n",
    "* `projects.set_current('bw2_class_2020_intro')` will switch you to the project passed as argument, and create it first if it doesn't exist.  Let's do the latter:"
   ]
  },
  {
   "cell_type": "code",
   "execution_count": 4,
   "metadata": {
    "solution": "hidden"
   },
   "outputs": [],
   "source": [
    "# The name of the project is entered as string; \n",
    "# it doesn't really have any restrictions, so can include spaces, \n",
    "# special characters, other languages, or even emoji.\n",
    "\n",
    "bw.projects.set_current('bw2_class_2020_intro') "
   ]
  },
  {
   "cell_type": "markdown",
   "metadata": {},
   "source": [
    "You can always see what projects you have on your computer by running `list(bw.projects)`. Unless you have worked with Brightway2 before on your computer, your list should contain two projects: 'default' and 'bw2_seminar_2020'."
   ]
  },
  {
   "cell_type": "markdown",
   "metadata": {
    "solution": "shown",
    "solution2": "shown",
    "solution2_first": true,
    "solution_first": true
   },
   "source": [
    "_**Exercise**_: list the projects on your computer."
   ]
  },
  {
   "cell_type": "code",
   "execution_count": 6,
   "metadata": {
    "scrolled": true,
    "solution": "shown",
    "solution2": "shown"
   },
   "outputs": [
    {
     "ename": "ValueError",
     "evalue": "unsupported pickle protocol: 5",
     "output_type": "error",
     "traceback": [
      "\u001b[0;31m---------------------------------------------------------------------------\u001b[0m",
      "\u001b[0;31mValueError\u001b[0m                                Traceback (most recent call last)",
      "\u001b[0;32m<ipython-input-6-b2e6ef8cd7eb>\u001b[0m in \u001b[0;36m<module>\u001b[0;34m\u001b[0m\n\u001b[0;32m----> 1\u001b[0;31m \u001b[0mlist\u001b[0m\u001b[0;34m(\u001b[0m\u001b[0mbw\u001b[0m\u001b[0;34m.\u001b[0m\u001b[0mprojects\u001b[0m\u001b[0;34m)\u001b[0m\u001b[0;34m\u001b[0m\u001b[0;34m\u001b[0m\u001b[0m\n\u001b[0m",
      "\u001b[0;32m~/miniconda3/envs/bw2class/lib/python3.7/site-packages/bw2data/project.py\u001b[0m in \u001b[0;36m__iter__\u001b[0;34m(self)\u001b[0m\n\u001b[1;32m     76\u001b[0m \u001b[0;34m\u001b[0m\u001b[0m\n\u001b[1;32m     77\u001b[0m     \u001b[0;32mdef\u001b[0m \u001b[0m__iter__\u001b[0m\u001b[0;34m(\u001b[0m\u001b[0mself\u001b[0m\u001b[0;34m)\u001b[0m\u001b[0;34m:\u001b[0m\u001b[0;34m\u001b[0m\u001b[0;34m\u001b[0m\u001b[0m\n\u001b[0;32m---> 78\u001b[0;31m         \u001b[0;32mfor\u001b[0m \u001b[0mproject_ds\u001b[0m \u001b[0;32min\u001b[0m \u001b[0mProjectDataset\u001b[0m\u001b[0;34m.\u001b[0m\u001b[0mselect\u001b[0m\u001b[0;34m(\u001b[0m\u001b[0;34m)\u001b[0m\u001b[0;34m:\u001b[0m\u001b[0;34m\u001b[0m\u001b[0;34m\u001b[0m\u001b[0m\n\u001b[0m\u001b[1;32m     79\u001b[0m             \u001b[0;32myield\u001b[0m \u001b[0mproject_ds\u001b[0m\u001b[0;34m\u001b[0m\u001b[0;34m\u001b[0m\u001b[0m\n\u001b[1;32m     80\u001b[0m \u001b[0;34m\u001b[0m\u001b[0m\n",
      "\u001b[0;32m~/miniconda3/envs/bw2class/lib/python3.7/site-packages/peewee.py\u001b[0m in \u001b[0;36mnext\u001b[0;34m(self)\u001b[0m\n\u001b[1;32m   4194\u001b[0m             \u001b[0mobj\u001b[0m \u001b[0;34m=\u001b[0m \u001b[0mself\u001b[0m\u001b[0;34m.\u001b[0m\u001b[0mcursor_wrapper\u001b[0m\u001b[0;34m.\u001b[0m\u001b[0mrow_cache\u001b[0m\u001b[0;34m[\u001b[0m\u001b[0mself\u001b[0m\u001b[0;34m.\u001b[0m\u001b[0mindex\u001b[0m\u001b[0;34m]\u001b[0m\u001b[0;34m\u001b[0m\u001b[0;34m\u001b[0m\u001b[0m\n\u001b[1;32m   4195\u001b[0m         \u001b[0;32melif\u001b[0m \u001b[0;32mnot\u001b[0m \u001b[0mself\u001b[0m\u001b[0;34m.\u001b[0m\u001b[0mcursor_wrapper\u001b[0m\u001b[0;34m.\u001b[0m\u001b[0mpopulated\u001b[0m\u001b[0;34m:\u001b[0m\u001b[0;34m\u001b[0m\u001b[0;34m\u001b[0m\u001b[0m\n\u001b[0;32m-> 4196\u001b[0;31m             \u001b[0mself\u001b[0m\u001b[0;34m.\u001b[0m\u001b[0mcursor_wrapper\u001b[0m\u001b[0;34m.\u001b[0m\u001b[0miterate\u001b[0m\u001b[0;34m(\u001b[0m\u001b[0;34m)\u001b[0m\u001b[0;34m\u001b[0m\u001b[0;34m\u001b[0m\u001b[0m\n\u001b[0m\u001b[1;32m   4197\u001b[0m             \u001b[0mobj\u001b[0m \u001b[0;34m=\u001b[0m \u001b[0mself\u001b[0m\u001b[0;34m.\u001b[0m\u001b[0mcursor_wrapper\u001b[0m\u001b[0;34m.\u001b[0m\u001b[0mrow_cache\u001b[0m\u001b[0;34m[\u001b[0m\u001b[0mself\u001b[0m\u001b[0;34m.\u001b[0m\u001b[0mindex\u001b[0m\u001b[0;34m]\u001b[0m\u001b[0;34m\u001b[0m\u001b[0;34m\u001b[0m\u001b[0m\n\u001b[1;32m   4198\u001b[0m         \u001b[0;32melse\u001b[0m\u001b[0;34m:\u001b[0m\u001b[0;34m\u001b[0m\u001b[0;34m\u001b[0m\u001b[0m\n",
      "\u001b[0;32m~/miniconda3/envs/bw2class/lib/python3.7/site-packages/peewee.py\u001b[0m in \u001b[0;36miterate\u001b[0;34m(self, cache)\u001b[0m\n\u001b[1;32m   4113\u001b[0m             \u001b[0mself\u001b[0m\u001b[0;34m.\u001b[0m\u001b[0minitialized\u001b[0m \u001b[0;34m=\u001b[0m \u001b[0;32mTrue\u001b[0m\u001b[0;34m\u001b[0m\u001b[0;34m\u001b[0m\u001b[0m\n\u001b[1;32m   4114\u001b[0m         \u001b[0mself\u001b[0m\u001b[0;34m.\u001b[0m\u001b[0mcount\u001b[0m \u001b[0;34m+=\u001b[0m \u001b[0;36m1\u001b[0m\u001b[0;34m\u001b[0m\u001b[0;34m\u001b[0m\u001b[0m\n\u001b[0;32m-> 4115\u001b[0;31m         \u001b[0mresult\u001b[0m \u001b[0;34m=\u001b[0m \u001b[0mself\u001b[0m\u001b[0;34m.\u001b[0m\u001b[0mprocess_row\u001b[0m\u001b[0;34m(\u001b[0m\u001b[0mrow\u001b[0m\u001b[0;34m)\u001b[0m\u001b[0;34m\u001b[0m\u001b[0;34m\u001b[0m\u001b[0m\n\u001b[0m\u001b[1;32m   4116\u001b[0m         \u001b[0;32mif\u001b[0m \u001b[0mcache\u001b[0m\u001b[0;34m:\u001b[0m\u001b[0;34m\u001b[0m\u001b[0;34m\u001b[0m\u001b[0m\n\u001b[1;32m   4117\u001b[0m             \u001b[0mself\u001b[0m\u001b[0;34m.\u001b[0m\u001b[0mrow_cache\u001b[0m\u001b[0;34m.\u001b[0m\u001b[0mappend\u001b[0m\u001b[0;34m(\u001b[0m\u001b[0mresult\u001b[0m\u001b[0;34m)\u001b[0m\u001b[0;34m\u001b[0m\u001b[0;34m\u001b[0m\u001b[0m\n",
      "\u001b[0;32m~/miniconda3/envs/bw2class/lib/python3.7/site-packages/peewee.py\u001b[0m in \u001b[0;36mprocess_row\u001b[0;34m(self, row)\u001b[0m\n\u001b[1;32m   7203\u001b[0m \u001b[0;34m\u001b[0m\u001b[0m\n\u001b[1;32m   7204\u001b[0m     \u001b[0;32mdef\u001b[0m \u001b[0mprocess_row\u001b[0m\u001b[0;34m(\u001b[0m\u001b[0mself\u001b[0m\u001b[0;34m,\u001b[0m \u001b[0mrow\u001b[0m\u001b[0;34m)\u001b[0m\u001b[0;34m:\u001b[0m\u001b[0;34m\u001b[0m\u001b[0;34m\u001b[0m\u001b[0m\n\u001b[0;32m-> 7205\u001b[0;31m         \u001b[0mdata\u001b[0m \u001b[0;34m=\u001b[0m \u001b[0msuper\u001b[0m\u001b[0;34m(\u001b[0m\u001b[0mModelObjectCursorWrapper\u001b[0m\u001b[0;34m,\u001b[0m \u001b[0mself\u001b[0m\u001b[0;34m)\u001b[0m\u001b[0;34m.\u001b[0m\u001b[0mprocess_row\u001b[0m\u001b[0;34m(\u001b[0m\u001b[0mrow\u001b[0m\u001b[0;34m)\u001b[0m\u001b[0;34m\u001b[0m\u001b[0;34m\u001b[0m\u001b[0m\n\u001b[0m\u001b[1;32m   7206\u001b[0m         \u001b[0;32mif\u001b[0m \u001b[0mself\u001b[0m\u001b[0;34m.\u001b[0m\u001b[0mis_model\u001b[0m\u001b[0;34m:\u001b[0m\u001b[0;34m\u001b[0m\u001b[0;34m\u001b[0m\u001b[0m\n\u001b[1;32m   7207\u001b[0m             \u001b[0;31m# Clear out any dirty fields before returning to the user.\u001b[0m\u001b[0;34m\u001b[0m\u001b[0;34m\u001b[0m\u001b[0;34m\u001b[0m\u001b[0m\n",
      "\u001b[0;32m~/miniconda3/envs/bw2class/lib/python3.7/site-packages/peewee.py\u001b[0m in \u001b[0;36mprocess_row\u001b[0;34m(self, row)\u001b[0m\n\u001b[1;32m   7169\u001b[0m             \u001b[0;32mif\u001b[0m \u001b[0mattr\u001b[0m \u001b[0;32min\u001b[0m \u001b[0mresult\u001b[0m\u001b[0;34m:\u001b[0m \u001b[0;32mcontinue\u001b[0m  \u001b[0;31m# Don't overwrite if we have dupes.\u001b[0m\u001b[0;34m\u001b[0m\u001b[0;34m\u001b[0m\u001b[0m\n\u001b[1;32m   7170\u001b[0m             \u001b[0;32mif\u001b[0m \u001b[0mconverters\u001b[0m\u001b[0;34m[\u001b[0m\u001b[0mi\u001b[0m\u001b[0;34m]\u001b[0m \u001b[0;32mis\u001b[0m \u001b[0;32mnot\u001b[0m \u001b[0;32mNone\u001b[0m\u001b[0;34m:\u001b[0m\u001b[0;34m\u001b[0m\u001b[0;34m\u001b[0m\u001b[0m\n\u001b[0;32m-> 7171\u001b[0;31m                 \u001b[0mresult\u001b[0m\u001b[0;34m[\u001b[0m\u001b[0mattr\u001b[0m\u001b[0;34m]\u001b[0m \u001b[0;34m=\u001b[0m \u001b[0mconverters\u001b[0m\u001b[0;34m[\u001b[0m\u001b[0mi\u001b[0m\u001b[0;34m]\u001b[0m\u001b[0;34m(\u001b[0m\u001b[0mrow\u001b[0m\u001b[0;34m[\u001b[0m\u001b[0mi\u001b[0m\u001b[0;34m]\u001b[0m\u001b[0;34m)\u001b[0m\u001b[0;34m\u001b[0m\u001b[0;34m\u001b[0m\u001b[0m\n\u001b[0m\u001b[1;32m   7172\u001b[0m             \u001b[0;32melse\u001b[0m\u001b[0;34m:\u001b[0m\u001b[0;34m\u001b[0m\u001b[0;34m\u001b[0m\u001b[0m\n\u001b[1;32m   7173\u001b[0m                 \u001b[0mresult\u001b[0m\u001b[0;34m[\u001b[0m\u001b[0mattr\u001b[0m\u001b[0;34m]\u001b[0m \u001b[0;34m=\u001b[0m \u001b[0mrow\u001b[0m\u001b[0;34m[\u001b[0m\u001b[0mi\u001b[0m\u001b[0;34m]\u001b[0m\u001b[0;34m\u001b[0m\u001b[0;34m\u001b[0m\u001b[0m\n",
      "\u001b[0;32m~/miniconda3/envs/bw2class/lib/python3.7/site-packages/bw2data/sqlite.py\u001b[0m in \u001b[0;36mpython_value\u001b[0;34m(self, value)\u001b[0m\n\u001b[1;32m     18\u001b[0m \u001b[0;34m\u001b[0m\u001b[0m\n\u001b[1;32m     19\u001b[0m     \u001b[0;32mdef\u001b[0m \u001b[0mpython_value\u001b[0m\u001b[0;34m(\u001b[0m\u001b[0mself\u001b[0m\u001b[0;34m,\u001b[0m \u001b[0mvalue\u001b[0m\u001b[0;34m)\u001b[0m\u001b[0;34m:\u001b[0m\u001b[0;34m\u001b[0m\u001b[0;34m\u001b[0m\u001b[0m\n\u001b[0;32m---> 20\u001b[0;31m         \u001b[0;32mreturn\u001b[0m \u001b[0mpickle\u001b[0m\u001b[0;34m.\u001b[0m\u001b[0mloads\u001b[0m\u001b[0;34m(\u001b[0m\u001b[0mbytes\u001b[0m\u001b[0;34m(\u001b[0m\u001b[0mvalue\u001b[0m\u001b[0;34m)\u001b[0m\u001b[0;34m)\u001b[0m\u001b[0;34m\u001b[0m\u001b[0;34m\u001b[0m\u001b[0m\n\u001b[0m\u001b[1;32m     21\u001b[0m \u001b[0;34m\u001b[0m\u001b[0m\n\u001b[1;32m     22\u001b[0m \u001b[0;34m\u001b[0m\u001b[0m\n",
      "\u001b[0;31mValueError\u001b[0m: unsupported pickle protocol: 5"
     ]
    }
   ],
   "source": [
    "list(bw.projects)"
   ]
  },
  {
   "cell_type": "markdown",
   "metadata": {},
   "source": [
    "Like in all Python modules, you can get additionnal information on the `projects` object and associated properties and methods by typing `help(projects)`. The [docs](https://docs.brightwaylca.org/technical/bw2data.html#projects) are of course more verbose."
   ]
  },
  {
   "cell_type": "markdown",
   "metadata": {},
   "source": [
    "##### Contents of a project"
   ]
  },
  {
   "cell_type": "markdown",
   "metadata": {},
   "source": [
    "One property of `projects` is its location, given by `projects.dir`:"
   ]
  },
  {
   "cell_type": "code",
   "execution_count": 5,
   "metadata": {},
   "outputs": [
    {
     "data": {
      "text/plain": [
       "'/Users/cmutel/Library/Application Support/Brightway3/bw2_class_2020_intro.c735de29b2ba138393428f80011c9425'"
      ]
     },
     "execution_count": 5,
     "metadata": {},
     "output_type": "execute_result"
    }
   ],
   "source": [
    "bw.projects.dir"
   ]
  },
  {
   "cell_type": "markdown",
   "metadata": {},
   "source": [
    "Looking at what is inside:  \n",
    "<img src=\"images/project_folder_before_setup.JPG\">"
   ]
  },
  {
   "cell_type": "markdown",
   "metadata": {},
   "source": [
    "First things first: **do not panic**! You can use Brightway2 for years without ever opening this directory, but we will discuss some of these files later.\n",
    "\n",
    "It is simply interesting to note that, for now, all the directories are empty except the `lci` directory, which contains an empty database."
   ]
  },
  {
   "cell_type": "markdown",
   "metadata": {},
   "source": [
    "All in all, the project takes up 4KB.  \n",
    "Its now time to start populating the project."
   ]
  },
  {
   "cell_type": "markdown",
   "metadata": {},
   "source": [
    "#### 1.3) bw2setup(), biosphere3 database and LCIA methods"
   ]
  },
  {
   "cell_type": "markdown",
   "metadata": {},
   "source": [
    "##### bw2setup()"
   ]
  },
  {
   "cell_type": "markdown",
   "metadata": {},
   "source": [
    "The first thing you should do is add flow and LCIA methods. This is done by running the `bw2setup` function:"
   ]
  },
  {
   "cell_type": "code",
   "execution_count": 6,
   "metadata": {},
   "outputs": [
    {
     "name": "stdout",
     "output_type": "stream",
     "text": [
      "Creating default biosphere\n",
      "\n"
     ]
    },
    {
     "name": "stderr",
     "output_type": "stream",
     "text": [
      "Writing activities to SQLite3 database:\n"
     ]
    },
    {
     "name": "stdout",
     "output_type": "stream",
     "text": [
      "Applying strategy: normalize_units\n",
      "Applying strategy: drop_unspecified_subcategories\n",
      "Applied 2 strategies in 0.01 seconds\n"
     ]
    },
    {
     "name": "stderr",
     "output_type": "stream",
     "text": [
      "0% [##############################] 100% | ETA: 00:00:00\n",
      "Total time elapsed: 00:00:00\n"
     ]
    },
    {
     "name": "stdout",
     "output_type": "stream",
     "text": [
      "Title: Writing activities to SQLite3 database:\n",
      "  Started: 03/12/2020 21:16:16\n",
      "  Finished: 03/12/2020 21:16:17\n",
      "  Total time elapsed: 00:00:00\n",
      "  CPU %: 86.50\n",
      "  Memory %: 0.94\n",
      "Created database: biosphere3\n",
      "Creating default LCIA methods\n",
      "\n",
      "Applying strategy: normalize_units\n",
      "Applying strategy: set_biosphere_type\n",
      "Applying strategy: drop_unspecified_subcategories\n",
      "Applying strategy: link_iterable_by_fields\n",
      "Applied 4 strategies in 1.75 seconds\n",
      "Wrote 850 LCIA methods with 219059 characterization factors\n",
      "Creating core data migrations\n",
      "\n"
     ]
    }
   ],
   "source": [
    "bw.bw2setup()"
   ]
  },
  {
   "cell_type": "markdown",
   "metadata": {},
   "source": [
    "The output tells us that bw2_setup created some very useful things:  \n",
    "  - Created a database called \"biosphere3\": this database contains elementary flows (called biosphere exchanges in Brightway2)  \n",
    "  - 718 impact assessment methods  \n",
    "  \n",
    "It also created some a `mapping` between the imported exchanges and some integer: more on this later.  \n",
    "The whole directory now takes up 125MB."
   ]
  },
  {
   "cell_type": "code",
   "execution_count": 7,
   "metadata": {},
   "outputs": [
    {
     "data": {
      "text/plain": [
       "Databases dictionary with 1 object(s):\n",
       "\tbiosphere3"
      ]
     },
     "execution_count": 7,
     "metadata": {},
     "output_type": "execute_result"
    }
   ],
   "source": [
    "bw.databases"
   ]
  },
  {
   "cell_type": "markdown",
   "metadata": {},
   "source": [
    "While not impossible to interact with the data at this level, you probably never will unless you are developping some funky program. Instead, it is strongly recommended to learn to work with `abstractions`.  "
   ]
  },
  {
   "cell_type": "markdown",
   "metadata": {},
   "source": [
    "To access a database in Brightway, you use the `Database` initialization method (again, you can type `Database?` for more information - this is the last I'll mention this."
   ]
  },
  {
   "cell_type": "code",
   "execution_count": 8,
   "metadata": {},
   "outputs": [
    {
     "data": {
      "text/plain": [
       "Brightway2 SQLiteBackend: biosphere3"
      ]
     },
     "execution_count": 8,
     "metadata": {},
     "output_type": "execute_result"
    }
   ],
   "source": [
    "bw.Database('biosphere3')"
   ]
  },
  {
   "cell_type": "markdown",
   "metadata": {},
   "source": [
    "It doesn't actually return anything other than information about the Backend.  \n",
    "However, there are many properties and functions associated with this database object.  These are found [here](https://docs.brightwaylca.org/technical/bw2data.html). We can also have a look through the autocomplete. Let's assign the database to a variable:"
   ]
  },
  {
   "cell_type": "code",
   "execution_count": 9,
   "metadata": {},
   "outputs": [],
   "source": [
    "my_bio = bw.Database('biosphere3')"
   ]
  },
  {
   "cell_type": "markdown",
   "metadata": {},
   "source": [
    "Let's check the my_bio `type`:"
   ]
  },
  {
   "cell_type": "code",
   "execution_count": 10,
   "metadata": {},
   "outputs": [
    {
     "data": {
      "text/plain": [
       "bw2data.backends.peewee.database.SQLiteBackend"
      ]
     },
     "execution_count": 10,
     "metadata": {},
     "output_type": "execute_result"
    }
   ],
   "source": [
    "type(my_bio)"
   ]
  },
  {
   "cell_type": "markdown",
   "metadata": {},
   "source": [
    "Let's check its length:"
   ]
  },
  {
   "cell_type": "code",
   "execution_count": 11,
   "metadata": {},
   "outputs": [
    {
     "data": {
      "text/plain": [
       "4321"
      ]
     },
     "execution_count": 11,
     "metadata": {},
     "output_type": "execute_result"
    }
   ],
   "source": [
    "len(my_bio)"
   ]
  },
  {
   "cell_type": "markdown",
   "metadata": {},
   "source": [
    "This is exactly the number of items we saw had been added to databases.db  \n",
    "Given this, what do you think is going on?"
   ]
  },
  {
   "cell_type": "markdown",
   "metadata": {},
   "source": [
    "If you type `my_bio.` and click on tab, you should get a list of properties and methods associated with database objects. Try this now:"
   ]
  },
  {
   "cell_type": "code",
   "execution_count": 12,
   "metadata": {},
   "outputs": [
    {
     "ename": "SyntaxError",
     "evalue": "invalid syntax (<ipython-input-12-ad3d6eaab5a3>, line 1)",
     "output_type": "error",
     "traceback": [
      "\u001b[0;36m  File \u001b[0;32m\"<ipython-input-12-ad3d6eaab5a3>\"\u001b[0;36m, line \u001b[0;32m1\u001b[0m\n\u001b[0;31m    my_bio.        #Type my_bio. and click tab. Have a look at the different properties and objects\u001b[0m\n\u001b[0m                                                                                                   ^\u001b[0m\n\u001b[0;31mSyntaxError\u001b[0m\u001b[0;31m:\u001b[0m invalid syntax\n"
     ]
    }
   ],
   "source": [
    "my_bio.        #Type my_bio. and click tab. Have a look at the different properties and objects"
   ]
  },
  {
   "cell_type": "markdown",
   "metadata": {},
   "source": [
    "Some of the more basic ones we will be using now are :  \n",
    "  - `random()` - returns a random activity in the database\n",
    "  - `get(*valid_exchange_tuple*)` - returns an activity, but you must know the activity key\n",
    "  - `load()` - loads the whole database as a dictionary.\n",
    "  - `make_searchable` - allows searching of the database (by default, it is already searchable)\n",
    "  - `search` - search the database  \n",
    "  \n",
    "Lets start with `random`:"
   ]
  },
  {
   "cell_type": "code",
   "execution_count": 13,
   "metadata": {},
   "outputs": [
    {
     "data": {
      "text/plain": [
       "'Dichlorvos' (kilogram, None, ('soil', 'agricultural'))"
      ]
     },
     "execution_count": 13,
     "metadata": {},
     "output_type": "execute_result"
    }
   ],
   "source": [
    "my_bio.random()"
   ]
  },
  {
   "cell_type": "markdown",
   "metadata": {},
   "source": [
    "This returns a biosphere activity, but without assigning it to a variable, there is not much we can do with it directly.  "
   ]
  },
  {
   "cell_type": "markdown",
   "metadata": {},
   "source": [
    "Note: It may seem counter-intuitive for elementary *flows* to be considered *activities* in Brightway, but it is no mistake. \n",
    "LCA models are made up of **nodes** (activities) that are linked by **edges** (exchanges). The biosphere activities are the nodes *outside* the technosphere. Emissions and resource extractions are modelled as exchanges between activities in the technosphere (part of the product system) and these biosphere activities.  \n",
    "\n",
    "More on this later. "
   ]
  },
  {
   "cell_type": "markdown",
   "metadata": {},
   "source": [
    "For now, let's assign another random activity to a variable:"
   ]
  },
  {
   "cell_type": "code",
   "execution_count": 14,
   "metadata": {},
   "outputs": [
    {
     "data": {
      "text/plain": [
       "'Thulium, in ground' (kilogram, None, ('natural resource', 'in ground'))"
      ]
     },
     "execution_count": 14,
     "metadata": {},
     "output_type": "execute_result"
    }
   ],
   "source": [
    "random_biosphere = my_bio.random()\n",
    "random_biosphere"
   ]
  },
  {
   "cell_type": "markdown",
   "metadata": {},
   "source": [
    "We can get the type of the object that was returned from the database:"
   ]
  },
  {
   "cell_type": "code",
   "execution_count": 15,
   "metadata": {},
   "outputs": [
    {
     "data": {
      "text/plain": [
       "bw2data.backends.peewee.proxies.Activity"
      ]
     },
     "execution_count": 15,
     "metadata": {},
     "output_type": "execute_result"
    }
   ],
   "source": [
    "type(random_biosphere)"
   ]
  },
  {
   "cell_type": "markdown",
   "metadata": {},
   "source": [
    "The type is an **activity proxy**. Activity proxies allow us to interact with the content of the database. In the journey to and from the database, several translation layers are used:  \n",
    "<img src=\"images/data_transition_layers.png\">"
   ]
  },
  {
   "cell_type": "markdown",
   "metadata": {},
   "source": [
    "In Brightway, we *almost* always work with `Activity` or `Exchange` objects. "
   ]
  },
  {
   "cell_type": "markdown",
   "metadata": {},
   "source": [
    "To see what the activity contains, we can convert it to a dictionary:"
   ]
  },
  {
   "cell_type": "code",
   "execution_count": 16,
   "metadata": {},
   "outputs": [
    {
     "data": {
      "text/plain": [
       "{'categories': ('natural resource', 'in ground'),\n",
       " 'code': 'a34e010c-6f68-5c79-8b45-2955b91f7dc2',\n",
       " 'CAS number': '007440-30-4',\n",
       " 'name': 'Thulium, in ground',\n",
       " 'database': 'biosphere3',\n",
       " 'unit': 'kilogram',\n",
       " 'type': 'natural resource'}"
      ]
     },
     "execution_count": 16,
     "metadata": {},
     "output_type": "execute_result"
    }
   ],
   "source": [
    "random_biosphere.as_dict()"
   ]
  },
  {
   "cell_type": "markdown",
   "metadata": {},
   "source": [
    "##### Getting activities from codes or keys"
   ]
  },
  {
   "cell_type": "markdown",
   "metadata": {},
   "source": [
    "We can see that the activities in the biosphere3 database have unique **codes**, which we can use with the `get` function:"
   ]
  },
  {
   "cell_type": "code",
   "execution_count": 17,
   "metadata": {},
   "outputs": [
    {
     "data": {
      "text/plain": [
       "'Thulium, in ground' (kilogram, None, ('natural resource', 'in ground'))"
      ]
     },
     "execution_count": 17,
     "metadata": {},
     "output_type": "execute_result"
    }
   ],
   "source": [
    "my_bio.get(random_biosphere['code'])"
   ]
  },
  {
   "cell_type": "markdown",
   "metadata": {},
   "source": [
    "Activities can also be \"gotten\" via `get_activity`, but the argument is the activity **key**, consisting of a tuple with two elements: the database name, and the activity code."
   ]
  },
  {
   "cell_type": "markdown",
   "metadata": {
    "solution2": "shown",
    "solution2_first": true
   },
   "source": [
    "**Exercise:** Use `bw.get_activity()` to retrieve the random biosphere activity. "
   ]
  },
  {
   "cell_type": "code",
   "execution_count": 18,
   "metadata": {
    "solution2": "shown"
   },
   "outputs": [
    {
     "data": {
      "text/plain": [
       "('biosphere3', 'a34e010c-6f68-5c79-8b45-2955b91f7dc2')"
      ]
     },
     "execution_count": 18,
     "metadata": {},
     "output_type": "execute_result"
    }
   ],
   "source": [
    "database_name = 'biosphere3'\n",
    "code = random_biosphere['code']\n",
    "random_biosphere_key = (database_name, code)\n",
    "random_biosphere_key"
   ]
  },
  {
   "cell_type": "code",
   "execution_count": 19,
   "metadata": {
    "solution2": "shown"
   },
   "outputs": [
    {
     "data": {
      "text/plain": [
       "'Thulium, in ground' (kilogram, None, ('natural resource', 'in ground'))"
      ]
     },
     "execution_count": 19,
     "metadata": {},
     "output_type": "execute_result"
    }
   ],
   "source": [
    "bw.get_activity(random_biosphere_key)"
   ]
  },
  {
   "cell_type": "markdown",
   "metadata": {},
   "source": [
    "You can always find (or return) the key to an activity using the `.key` property."
   ]
  },
  {
   "cell_type": "code",
   "execution_count": 20,
   "metadata": {},
   "outputs": [
    {
     "data": {
      "text/plain": [
       "('biosphere3', 'a34e010c-6f68-5c79-8b45-2955b91f7dc2')"
      ]
     },
     "execution_count": 20,
     "metadata": {},
     "output_type": "execute_result"
    }
   ],
   "source": [
    "random_biosphere.key"
   ]
  },
  {
   "cell_type": "markdown",
   "metadata": {},
   "source": [
    "##### Searching for activities"
   ]
  },
  {
   "cell_type": "markdown",
   "metadata": {},
   "source": [
    "Let's say we are looking for a specific elementary flow, we can use the `search` method of the database (see [here](https://docs.brightwaylca.org/technical/bw2data.html#default-backend-databases-stored-in-a-sqlite-database) for more details on using search):"
   ]
  },
  {
   "cell_type": "code",
   "execution_count": 21,
   "metadata": {},
   "outputs": [
    {
     "data": {
      "text/plain": [
       "['Carbon dioxide, fossil' (kilogram, None, ('air',)),\n",
       " 'Carbon dioxide, fossil' (kilogram, None, ('air', 'non-urban air or from high stacks')),\n",
       " 'Carbon dioxide, fossil' (kilogram, None, ('air', 'urban air close to ground')),\n",
       " 'Carbon dioxide, fossil' (kilogram, None, ('air', 'low population density, long-term')),\n",
       " 'Carbon dioxide, fossil' (kilogram, None, ('air', 'lower stratosphere + upper troposphere')),\n",
       " 'Carbon dioxide, in air' (kilogram, None, ('natural resource', 'in air')),\n",
       " 'Carbon dioxide, non-fossil' (kilogram, None, ('air', 'urban air close to ground')),\n",
       " 'Carbon dioxide, non-fossil' (kilogram, None, ('air', 'lower stratosphere + upper troposphere')),\n",
       " 'Carbon dioxide, non-fossil' (kilogram, None, ('air', 'low population density, long-term')),\n",
       " 'Carbon dioxide, non-fossil' (kilogram, None, ('air',)),\n",
       " 'Carbon dioxide, non-fossil' (kilogram, None, ('air', 'non-urban air or from high stacks')),\n",
       " 'Carbon dioxide, from soil or biomass stock' (kilogram, None, ('air', 'low population density, long-term')),\n",
       " 'Carbon dioxide, from soil or biomass stock' (kilogram, None, ('air', 'indoor')),\n",
       " 'Carbon dioxide, from soil or biomass stock' (kilogram, None, ('air',)),\n",
       " 'Carbon dioxide, to soil or biomass stock' (kilogram, None, ('soil', 'agricultural')),\n",
       " 'Carbon dioxide, from soil or biomass stock' (kilogram, None, ('air', 'non-urban air or from high stacks')),\n",
       " 'Carbon dioxide, from soil or biomass stock' (kilogram, None, ('air', 'urban air close to ground')),\n",
       " 'Carbon dioxide, to soil or biomass stock' (kilogram, None, ('soil',)),\n",
       " 'Carbon dioxide, from soil or biomass stock' (kilogram, None, ('air', 'lower stratosphere + upper troposphere')),\n",
       " 'Carbon dioxide, to soil or biomass stock' (kilogram, None, ('soil', 'forestry')),\n",
       " 'Carbon dioxide, non-fossil, from calcination' (kilogram, None, ['air']),\n",
       " 'Carbon dioxide, to soil or biomass stock' (kilogram, None, ('soil', 'industrial'))]"
      ]
     },
     "execution_count": 21,
     "metadata": {},
     "output_type": "execute_result"
    }
   ],
   "source": [
    "bw.Database('biosphere3').search('carbon dioxide')"
   ]
  },
  {
   "cell_type": "markdown",
   "metadata": {},
   "source": [
    "It is also possible to use \"filters\" to narrow searches, e.g."
   ]
  },
  {
   "cell_type": "code",
   "execution_count": 22,
   "metadata": {},
   "outputs": [
    {
     "name": "stdout",
     "output_type": "stream",
     "text": [
      "Excluding 18 filtered results\n"
     ]
    },
    {
     "data": {
      "text/plain": [
       "['Carbon dioxide, fossil' (kilogram, None, ('air', 'non-urban air or from high stacks')),\n",
       " 'Carbon dioxide, fossil' (kilogram, None, ('air', 'urban air close to ground')),\n",
       " 'Carbon dioxide, non-fossil' (kilogram, None, ('air', 'urban air close to ground')),\n",
       " 'Carbon dioxide, non-fossil' (kilogram, None, ('air', 'non-urban air or from high stacks'))]"
      ]
     },
     "execution_count": 22,
     "metadata": {},
     "output_type": "execute_result"
    }
   ],
   "source": [
    "bw.Database('biosphere3').search('carbon dioxide', filter={'categories':'urban', 'name':'fossil'})"
   ]
  },
  {
   "cell_type": "markdown",
   "metadata": {},
   "source": [
    "The database object is also iterable, allowing \"home-made\" searches through list comprehensions. This approach is better because one can add as many criteria as wanted:"
   ]
  },
  {
   "cell_type": "code",
   "execution_count": 23,
   "metadata": {},
   "outputs": [
    {
     "data": {
      "text/plain": [
       "['Carbon dioxide, fossil' (kilogram, None, ('air', 'urban air close to ground'))]"
      ]
     },
     "execution_count": 23,
     "metadata": {},
     "output_type": "execute_result"
    }
   ],
   "source": [
    "[act for act in my_bio if 'Carbon dioxide' in act['name'] \n",
    "                                            and 'fossil' in act['name']\n",
    "                                            and 'non' not in act['name']\n",
    "                                            and 'urban air close to ground' in str(act['categories'])\n",
    "         ]"
   ]
  },
  {
   "cell_type": "markdown",
   "metadata": {},
   "source": [
    "Activities returned by searches or list comprehensions can be assigned to variables, but to do so, one needs to identify the activity by index. Based on the above, I can refine my filters to ensure the list comprehension only returns one activity, and then choose it without fear of choosing the wrong one.."
   ]
  },
  {
   "cell_type": "code",
   "execution_count": 24,
   "metadata": {},
   "outputs": [
    {
     "data": {
      "text/plain": [
       "['Carbon dioxide, fossil' (kilogram, None, ('air', 'urban air close to ground'))]"
      ]
     },
     "execution_count": 24,
     "metadata": {},
     "output_type": "execute_result"
    }
   ],
   "source": [
    "[act for act in my_bio if 'Carbon dioxide' in act['name'] \n",
    "                                            and 'fossil' in act['name']\n",
    "                                            and 'non' not in act['name']\n",
    "                                            and 'urban air close to ground' in str(act['categories'])]"
   ]
  },
  {
   "cell_type": "code",
   "execution_count": 25,
   "metadata": {},
   "outputs": [
    {
     "data": {
      "text/plain": [
       "'Carbon dioxide, fossil' (kilogram, None, ('air', 'urban air close to ground'))"
      ]
     },
     "execution_count": 25,
     "metadata": {},
     "output_type": "execute_result"
    }
   ],
   "source": [
    "activity_I_want = [act for act in my_bio if 'Carbon dioxide' in act['name'] \n",
    "                                            and 'fossil' in act['name']\n",
    "                                            and 'non' not in act['name']\n",
    "                                            and 'urban air close to ground' in str(act['categories'])\n",
    "         ][0]\n",
    "activity_I_want"
   ]
  },
  {
   "cell_type": "markdown",
   "metadata": {
    "solution2": "hidden",
    "solution2_first": true
   },
   "source": [
    "**Exercise**: look for and assign to a variable an emission of nitrous oxide emitted to air in the \"urban air\" subcompartment."
   ]
  },
  {
   "cell_type": "code",
   "execution_count": 26,
   "metadata": {
    "solution2": "hidden"
   },
   "outputs": [
    {
     "data": {
      "text/plain": [
       "['Dinitrogen monoxide' (kilogram, None, ('air', 'non-urban air or from high stacks')),\n",
       " 'Dinitrogen monoxide' (kilogram, None, ('air', 'urban air close to ground'))]"
      ]
     },
     "execution_count": 26,
     "metadata": {},
     "output_type": "execute_result"
    }
   ],
   "source": [
    "# First inquiry:\n",
    "[act for act in my_bio if 'nitrogen' in act['name']\n",
    "                       and 'urban air' in str(act['categories'])\n",
    "         ]"
   ]
  },
  {
   "cell_type": "code",
   "execution_count": 27,
   "metadata": {
    "solution2": "hidden"
   },
   "outputs": [
    {
     "data": {
      "text/plain": [
       "'Dinitrogen monoxide' (kilogram, None, ('air', 'urban air close to ground'))"
      ]
     },
     "execution_count": 27,
     "metadata": {},
     "output_type": "execute_result"
    }
   ],
   "source": [
    "# Found what I need:\n",
    "[act for act in my_bio if 'Dinitrogen monoxide' in act['name']\n",
    "                       and 'urban air close to ground' in str(act['categories'])\n",
    "         ][0]"
   ]
  },
  {
   "cell_type": "markdown",
   "metadata": {},
   "source": [
    "Let's leave the biosphere database here for now."
   ]
  },
  {
   "cell_type": "markdown",
   "metadata": {},
   "source": [
    "##### Methods"
   ]
  },
  {
   "cell_type": "markdown",
   "metadata": {},
   "source": [
    "bw2_setup() also installed LCIA methods."
   ]
  },
  {
   "cell_type": "code",
   "execution_count": 28,
   "metadata": {},
   "outputs": [
    {
     "data": {
      "text/plain": [
       "Methods dictionary with 850 objects, including:\n",
       "\t('CML 2001 (obsolete)', 'acidification potential', 'average European')\n",
       "\t('CML 2001 (obsolete)', 'acidification potential', 'generic')\n",
       "\t('CML 2001 (obsolete)', 'climate change', 'GWP 100a')\n",
       "\t('CML 2001 (obsolete)', 'climate change', 'GWP 20a')\n",
       "\t('CML 2001 (obsolete)', 'climate change', 'GWP 500a')\n",
       "\t('CML 2001 (obsolete)', 'climate change', 'lower limit of net GWP')\n",
       "\t('CML 2001 (obsolete)', 'climate change', 'upper limit of net GWP')\n",
       "\t('CML 2001 (obsolete)', 'eutrophication potential', 'average European')\n",
       "\t('CML 2001 (obsolete)', 'eutrophication potential', 'generic')\n",
       "\t('CML 2001 (obsolete)', 'freshwater aquatic ecotoxicity', 'FAETP 100a')\n",
       "Use `list(this object)` to get the complete list."
      ]
     },
     "execution_count": 28,
     "metadata": {},
     "output_type": "execute_result"
    }
   ],
   "source": [
    "bw.methods"
   ]
  },
  {
   "cell_type": "markdown",
   "metadata": {},
   "source": [
    "One can load a random method:"
   ]
  },
  {
   "cell_type": "code",
   "execution_count": 29,
   "metadata": {},
   "outputs": [
    {
     "data": {
      "text/plain": [
       "('ReCiPe Endpoint (E,A) w/o LT (obsolete)',\n",
       " 'ecosystem quality w/o LT',\n",
       " 'terrestrial ecotoxicity w/o LT')"
      ]
     },
     "execution_count": 29,
     "metadata": {},
     "output_type": "execute_result"
    }
   ],
   "source": [
    "bw.methods.random()"
   ]
  },
  {
   "cell_type": "code",
   "execution_count": 30,
   "metadata": {},
   "outputs": [
    {
     "data": {
      "text/plain": [
       "tuple"
      ]
     },
     "execution_count": 30,
     "metadata": {},
     "output_type": "execute_result"
    }
   ],
   "source": [
    "type(bw.methods.random())"
   ]
  },
  {
   "cell_type": "markdown",
   "metadata": {},
   "source": [
    "Here, the random method returns the tuple by which the method is identified. To get to an actual method, the following syntax is used:"
   ]
  },
  {
   "cell_type": "code",
   "execution_count": 31,
   "metadata": {},
   "outputs": [
    {
     "data": {
      "text/plain": [
       "Brightway2 Method: EDIP2003 (obsolete): non-renewable resources: aluminium"
      ]
     },
     "execution_count": 31,
     "metadata": {},
     "output_type": "execute_result"
    }
   ],
   "source": [
    "bw.Method(bw.methods.random())"
   ]
  },
  {
   "cell_type": "markdown",
   "metadata": {},
   "source": [
    "Of course, a random method is probably not useful except to play around. To find an actual method, one can again use list comprehensions. Let's say I am interested in using the IPCC2013 100 years method:"
   ]
  },
  {
   "cell_type": "code",
   "execution_count": 32,
   "metadata": {},
   "outputs": [
    {
     "data": {
      "text/plain": [
       "[('IPCC 2013', 'climate change', 'GTP 100a'),\n",
       " ('IPCC 2013', 'climate change', 'GWP 100a'),\n",
       " ('IPCC 2013 no LT', 'climate change', 'GTP 100a'),\n",
       " ('IPCC 2013 no LT', 'climate change', 'GWP 100a')]"
      ]
     },
     "execution_count": 32,
     "metadata": {},
     "output_type": "execute_result"
    }
   ],
   "source": [
    "[m for m in bw.methods if 'IPCC' in str(m) and ('2013') in str(m) and '100' in str(m)]"
   ]
  },
  {
   "cell_type": "markdown",
   "metadata": {},
   "source": [
    "I am interested in the second of these, and will assign it to a variable. I can will refine my search until there is one element in my list and then choose it by subscripting."
   ]
  },
  {
   "cell_type": "code",
   "execution_count": 33,
   "metadata": {},
   "outputs": [
    {
     "data": {
      "text/plain": [
       "[('IPCC 2013', 'climate change', 'GWP 100a')]"
      ]
     },
     "execution_count": 33,
     "metadata": {},
     "output_type": "execute_result"
    }
   ],
   "source": [
    "[m for m in bw.methods if 'IPCC' in m[0]\n",
    "                        and ('2013') in str(m)\n",
    "                        and 'GWP 100' in str(m)\n",
    "                        and 'no LT' not in str(m)]"
   ]
  },
  {
   "cell_type": "code",
   "execution_count": 34,
   "metadata": {},
   "outputs": [],
   "source": [
    "# Good, now let's choose it:\n",
    "ipcc2013 = [m for m in bw.methods if 'IPCC' in m[0]\n",
    "                    and ('2013') in str(m)\n",
    "                    and 'GWP 100' in str(m)\n",
    "                    and 'no LT' not in str(m)][0]"
   ]
  },
  {
   "cell_type": "markdown",
   "metadata": {},
   "source": [
    "Of course, if I know exactly the method I want, and I know the syntax, I can simply type it out: `('IPCC 2013', 'climate change', 'GWP 100a')`"
   ]
  },
  {
   "cell_type": "code",
   "execution_count": 35,
   "metadata": {},
   "outputs": [
    {
     "data": {
      "text/plain": [
       "tuple"
      ]
     },
     "execution_count": 35,
     "metadata": {},
     "output_type": "execute_result"
    }
   ],
   "source": [
    "type(ipcc2013)"
   ]
  },
  {
   "cell_type": "code",
   "execution_count": 36,
   "metadata": {},
   "outputs": [],
   "source": [
    "ipcc_2013_method = bw.Method(ipcc2013)"
   ]
  },
  {
   "cell_type": "code",
   "execution_count": 37,
   "metadata": {},
   "outputs": [
    {
     "data": {
      "text/plain": [
       "bw2data.method.Method"
      ]
     },
     "execution_count": 37,
     "metadata": {},
     "output_type": "execute_result"
    }
   ],
   "source": [
    "type(ipcc_2013_method)"
   ]
  },
  {
   "cell_type": "markdown",
   "metadata": {},
   "source": [
    "Again, there are a bunch of methods associated with a method object. You can access these by typing ipcc_2013_method. and clicking tab.  \n",
    "For example, metadata:"
   ]
  },
  {
   "cell_type": "code",
   "execution_count": 38,
   "metadata": {},
   "outputs": [
    {
     "data": {
      "text/plain": [
       "('IPCC 2013', 'climate change', 'GWP 100a')"
      ]
     },
     "execution_count": 38,
     "metadata": {},
     "output_type": "execute_result"
    }
   ],
   "source": [
    "ipcc_2013_method.name"
   ]
  },
  {
   "cell_type": "code",
   "execution_count": 39,
   "metadata": {},
   "outputs": [
    {
     "data": {
      "text/plain": [
       "{'description': \"IPCC characterisation factors for the direct global warming potential of air emissions in ecoinvent 3.2. See the ecoinvent report 'Implementation of IPCC impact assessment method 2007 and 2013 to ecoinvent database 3.2 (2015.11.30)' for more details. Doesn't include: indirect formation of dinitrogen monoxide from nitrogen emissions, radiative forcing due to emissions of NOx, water, sulphate, etc. in the lower stratosphere + upper troposphere, carbon climate feedbacks, and any emissions which have cooling effects (e.g. black carbon). All CO is assumed to convert completely to CO2. Biogenic CO2 uptake and biogenic CO2 emissions are not characterised, except for 'Carbon dioxide, from soil or biomass stock' (deforestation and land transformation).\",\n",
       " 'filename': 'LCIA_implementation_3.6.xlsx',\n",
       " 'unit': 'kg CO2-Eq',\n",
       " 'abbreviation': 'ipcc-2013cg.bd5af3f67229a1cc291b8ecb7f316fcf',\n",
       " 'num_cfs': 211}"
      ]
     },
     "execution_count": 39,
     "metadata": {},
     "output_type": "execute_result"
    }
   ],
   "source": [
    "ipcc_2013_method.metadata"
   ]
  },
  {
   "cell_type": "code",
   "execution_count": 40,
   "metadata": {},
   "outputs": [
    {
     "data": {
      "text/plain": [
       "'kg CO2-Eq'"
      ]
     },
     "execution_count": 40,
     "metadata": {},
     "output_type": "execute_result"
    }
   ],
   "source": [
    "ipcc_2013_method.metadata['unit']"
   ]
  },
  {
   "cell_type": "markdown",
   "metadata": {},
   "source": [
    "Question: where is this metadata?"
   ]
  },
  {
   "cell_type": "markdown",
   "metadata": {},
   "source": [
    "Let's use the `load` method to see what is in the object:"
   ]
  },
  {
   "cell_type": "code",
   "execution_count": 41,
   "metadata": {},
   "outputs": [
    {
     "data": {
      "text/plain": [
       "[(('biosphere3', 'e259263c-d1f1-449f-bb9b-73c6d0a32a00'), 1.0),\n",
       " (('biosphere3', '16eeda8a-1ea2-408e-ab37-2648495058dd'), 1.0),\n",
       " (('biosphere3', 'aa7cac3a-3625-41d4-bc54-33e2cf11ec46'), 1.0),\n",
       " (('biosphere3', '349b29d1-3e58-4c66-98b9-9d1a076efd2e'), 1.0),\n",
       " (('biosphere3', 'f9749677-9c9f-4678-ab55-c607dfdc2cb9'), 1.0),\n",
       " (('biosphere3', '5188df39-2bb8-4826-b469-fa9f86bacc09'), 1.0),\n",
       " (('biosphere3', 'e1c597cc-14cb-4ebb-af07-7a93a5b77d34'), 1.0),\n",
       " (('biosphere3', '6d89125e-e9b7-4d7e-a1fc-ada45dbd8815'), 1.0),\n",
       " (('biosphere3', '78eb1859-abd9-44c6-9ce3-f3b5b33d619c'), 1.0),\n",
       " (('biosphere3', 'e4e9febc-07c1-403d-8d3a-6707bb4d96e6'), 1.0),\n",
       " (('biosphere3', 'e8787b5e-d927-446d-81a9-f56977bbfeb4'), 1.0),\n",
       " (('biosphere3', '259cf8d6-6ea8-4ccf-84b7-23c930a5b2b3'), -1.0),\n",
       " (('biosphere3', '8ae4d8bb-3e4b-4825-8325-94696d7a64fd'), -1.0),\n",
       " (('biosphere3', '60d424f7-d5a9-4549-9540-da06684bc3bb'), -1.0),\n",
       " (('biosphere3', '375bc95e-6596-4aa1-9716-80ff51b9da77'), -1.0),\n",
       " (('biosphere3', '49c594c6-b6a8-42a3-95c5-cca812fda80b'), 4.0624),\n",
       " (('biosphere3', 'a3beb5ac-5149-47f6-a035-53fc5030f10a'), 4.0624),\n",
       " (('biosphere3', '099b36ab-4c03-4587-87f4-2f81e337afb8'), 4.0624),\n",
       " (('biosphere3', 'ba2f3f82-c93a-47a5-822a-37ec97495275'), 4.0624),\n",
       " (('biosphere3', '6edcc2df-88a3-48e1-83d8-ffc38d31c35b'), 4.0624),\n",
       " (('biosphere3', '05f6e226-0593-46f5-a788-01fa306e66ad'), 4.0624),\n",
       " (('biosphere3', 'bd086aa3-312a-47af-a7b2-04fddbf8f01e'), 4.0624),\n",
       " (('biosphere3', 'e1da7e11-cc2c-4ea2-a42a-bf558150014b'), 4.0624),\n",
       " (('biosphere3', '68b9b577-90cf-49e4-88bb-a55d80f3ac5d'), 4.0624),\n",
       " (('biosphere3', '69a6c884-39be-444f-a67c-7436a5e66de2'), 4.0624),\n",
       " (('biosphere3', '51c58d09-0699-4d51-80b3-a1bb2b9313e4'), 4.0624),\n",
       " (('biosphere3', '588356df-f3b4-43a7-a76e-c47175a7eae0'), 2.491),\n",
       " (('biosphere3', '968495ec-1000-438a-9e11-467776ebb54e'), 2.491),\n",
       " (('biosphere3', 'b821ad93-ba6a-4d74-b6ae-ca12cd9563d7'), 2.491),\n",
       " (('biosphere3', '2cb2333c-1599-46cf-8435-3dffce627524'), 2.491),\n",
       " (('biosphere3', '9afa0173-ecbd-4f2c-9c5c-b3128a032812'), 2.491),\n",
       " (('biosphere3', '78259cf2-1bb2-41ec-941c-9d70909df094'), 16.40180896),\n",
       " (('biosphere3', '98af3079-fb76-488d-8afe-713814e14d36'), 16.40180896),\n",
       " (('biosphere3', 'fa9b9736-6de8-4bd6-ba22-1bd78c798373'), 16.40180896),\n",
       " (('biosphere3', 'fbf6ab3a-74e3-4cbe-b61d-959728bdce46'), 16.40180896),\n",
       " (('biosphere3', '4cadbc9f-0472-4bb9-a942-df5b90e37878'), 16.40180896),\n",
       " (('biosphere3', '81305cda-63f1-4c1a-99c6-2c2568550ec4'), 264.8),\n",
       " (('biosphere3', '473826ae-125a-4b02-8c8e-c84322491d80'), 264.8),\n",
       " (('biosphere3', 'afd6d670-bbb0-4625-9730-04088a5b035e'), 264.8),\n",
       " (('biosphere3', '20185046-64bb-4c09-a8e7-e8a9e144ca98'), 264.8),\n",
       " (('biosphere3', '6dc1b46f-ee89-4495-95c4-b8a637bcd6cb'), 264.8),\n",
       " (('biosphere3', '647ae26f-f2fe-44cb-ac81-39bb7736f28e'), 1301.27019996),\n",
       " (('biosphere3', '75fe1a2c-49fa-49e4-90f1-8f102508a96d'), 1301.27019996),\n",
       " (('biosphere3', '16fcd4f9-0bb8-4b84-8334-3ffb1a17aa74'), 1301.27019996),\n",
       " (('biosphere3', 'e87f039d-d9ce-4242-ac18-c9284cc80f3d'), 1301.27019996),\n",
       " (('biosphere3', 'fa0c2bee-8dd9-4f8a-8489-b1f3b43de958'), 1301.27019996),\n",
       " (('biosphere3', 'f8ee4881-a003-4e18-aa2a-d9daf97d76f7'), 160.09863099),\n",
       " (('biosphere3', '9e7d019f-c8c0-4631-9bbb-ced3e081c90d'), 160.09863099),\n",
       " (('biosphere3', '99585564-bfce-4845-9aaa-2f24b8f26a41'), 160.09863099),\n",
       " (('biosphere3', 'ce6294f5-2ed7-46ee-a967-33e265e34455'), 160.09863099),\n",
       " (('biosphere3', '818cee9e-231c-4b53-8ed2-47a0001802d5'), 160.09863099),\n",
       " (('biosphere3', 'bf580c6b-1b4d-429d-bed7-1e335920941f'), 4804.43907777),\n",
       " (('biosphere3', '5eb2d548-1694-496d-b3bd-a439984fca7d'), 4804.43907777),\n",
       " (('biosphere3', '5253e322-7de5-42aa-9167-daf22ff44031'), 4804.43907777),\n",
       " (('biosphere3', 'e86bfec2-1025-4fa2-90b1-81e35e621e91'), 4804.43907777),\n",
       " (('biosphere3', 'f43b2b80-f5a6-4d31-9980-0754305a978d'), 4804.43907777),\n",
       " (('biosphere3', 'd2025041-20ee-41bb-b2c8-47631e839ff0'), 5823.72618701),\n",
       " (('biosphere3', '53b87932-00c8-4bf4-b519-ecd3c401ed4d'), 5823.72618701),\n",
       " (('biosphere3', '47c12d99-c2dc-41cf-bad1-cd31c2fe0421'), 5823.72618701),\n",
       " (('biosphere3', 'cacfd448-6c2d-4061-9363-fd506b979f25'), 5823.72618701),\n",
       " (('biosphere3', '9b132374-dce2-4ce0-86aa-53201b30f617'), 5823.72618701),\n",
       " (('biosphere3', 'b018c97d-8fea-4258-b4d3-6a65669c77f4'), 782.03725986),\n",
       " (('biosphere3', '8c193650-c4ae-4e9a-b25b-eaa7b2b9ea2d'), 782.03725986),\n",
       " (('biosphere3', '416eedbd-a7b4-4693-8031-9bfaa2f20ebc'), 782.03725986),\n",
       " (('biosphere3', '843fd145-61ac-4fa7-a608-ce4ac4d88d49'), 782.03725986),\n",
       " (('biosphere3', '033d3a16-e1a2-4ce8-8769-f4ea867801ca'), 782.03725986),\n",
       " (('biosphere3', '94ca9e00-5268-4663-a0cd-25026c7c6b53'), 137.56020393),\n",
       " (('biosphere3', 'fff3d2db-2784-4044-a6a2-2bc7242456ee'), 137.56020393),\n",
       " (('biosphere3', '1c4a106a-53bc-40f5-bcae-d30ab191dbfe'), 137.56020393),\n",
       " (('biosphere3', '9cf9bf0e-86fe-42c0-90cc-bfed96fbdc8f'), 137.56020393),\n",
       " (('biosphere3', '393d0862-04cc-45ae-8d08-9dc2a4461b35'), 137.56020393),\n",
       " (('biosphere3', 'ba3120e9-7412-4517-812c-752edeac5472'), 0.89826217),\n",
       " (('biosphere3', 'cab70244-9e25-42d3-b31e-ddabfd3eeb67'), 0.89826217),\n",
       " (('biosphere3', '89324b2f-1e73-4eb1-9716-96b9be0349ac'), 0.89826217),\n",
       " (('biosphere3', '03758df7-503a-400e-bc7b-ec05825761a5'), 0.89826217),\n",
       " (('biosphere3', '468bebea-17ee-49d3-b11d-c603d91c67c8'), 0.89826217),\n",
       " (('biosphere3', '1e060d5a-cd41-4f30-9c93-272403b7e004'), 8592.20208449),\n",
       " (('biosphere3', '7d05319a-1260-45e0-8872-d5ff1712ea7e'), 8592.20208449),\n",
       " (('biosphere3', '1584734d-c5c8-42a5-aa51-0f6a92a9cc0d'), 8592.20208449),\n",
       " (('biosphere3', '8a3a44e4-e2f1-476d-9e9e-a90fda263fe3'), 8592.20208449),\n",
       " (('biosphere3', '3b30d058-02ef-4ed2-b357-5fc1a45c63e7'), 8592.20208449),\n",
       " (('biosphere3', '50432644-8568-444e-b7e7-8e37a7e1f3e3'), 1982.03546266),\n",
       " (('biosphere3', '1652c2e3-c6c5-49e1-9ad1-34c188087ca6'), 1982.03546266),\n",
       " (('biosphere3', '95b6f6da-49f9-413d-8ff5-5342d6cff588'), 1982.03546266),\n",
       " (('biosphere3', 'ba781ac6-cdf1-4a09-86b5-76b19ed3438b'), 1982.03546266),\n",
       " (('biosphere3', '400be66e-4383-482a-93e3-c005e96de261'), 1982.03546266),\n",
       " (('biosphere3', 'f322122f-3059-4cfb-8754-efc82548e7f0'), 79.36717675),\n",
       " (('biosphere3', '2fff3bda-1eec-4166-9969-bc9e757c8e8e'), 79.36717675),\n",
       " (('biosphere3', '2cbc6042-2cee-4668-8017-d7f805d9029e'), 79.36717675),\n",
       " (('biosphere3', '050da0cd-2957-45a9-ae7a-ace372083fe5'), 79.36717675),\n",
       " (('biosphere3', 'db907ff7-6cf0-4f88-9376-116262dfad6d'), 79.36717675),\n",
       " (('biosphere3', '0bf92802-8b5e-43f5-a261-95c06bd5c551'), 526.54777691),\n",
       " (('biosphere3', '9b7e5cbf-e1eb-420d-ad43-248df23457ee'), 526.54777691),\n",
       " (('biosphere3', '71a6ea76-6642-4573-bed2-c1884e6792fd'), 526.54777691),\n",
       " (('biosphere3', '60268f3d-468b-487e-acb1-24d7250cb6b3'), 526.54777691),\n",
       " (('biosphere3', '27f61651-96a5-45c7-9873-832626cf6905'), 526.54777691),\n",
       " (('biosphere3', '4925cde1-9f43-43d3-bcf1-4865b8de6634'), 7665.36131656),\n",
       " (('biosphere3', '30533fd3-b19c-44fc-9a88-fb6b12409b47'), 7665.36131656),\n",
       " (('biosphere3', '6f8ce7a4-d66a-4593-9314-51778aa09d4b'), 7665.36131656),\n",
       " (('biosphere3', 'ec8789e5-d140-4ca8-b7ef-b3abfd044414'), 7665.36131656),\n",
       " (('biosphere3', '15e54d5b-aba2-40a6-9aa8-aa2b8c432129'), 7665.36131656),\n",
       " (('biosphere3', 'b7e0bddf-7b8a-43f4-9319-6f4b3d9fa65a'), 11123.4939199),\n",
       " (('biosphere3', '7f62f535-e81a-476c-9c39-4d59f289db1a'), 11123.4939199),\n",
       " (('biosphere3', '8f3e0579-d07d-48c9-b41a-fb559728f9c0'), 11123.4939199),\n",
       " (('biosphere3', 'acc39720-dda7-4b3a-80c7-c6394cad4191'), 11123.4939199),\n",
       " (('biosphere3', 'df5dd437-2e12-4af6-8f7a-9c8224857dc5'), 11123.4939199),\n",
       " (('biosphere3', 'dc9520c7-6e4a-42fb-b1f6-9fa8f34667a4'), 3169.25517622),\n",
       " (('biosphere3', '40022b1f-8906-4c54-a074-bf1a3fc9b13f'), 3169.25517622),\n",
       " (('biosphere3', '84386543-b148-465b-9265-ad638c12e263'), 3169.25517622),\n",
       " (('biosphere3', '281e1011-f121-4d5b-ad4d-22d562b2c2cd'), 3169.25517622),\n",
       " (('biosphere3', '5d1701c5-c4ef-49c7-8a68-ce7c255eee9f'), 3169.25517622),\n",
       " (('biosphere3', 'b53d3744-3629-4219-be20-980865e54031'), 29.7),\n",
       " (('biosphere3', '09e231fa-b1c2-4d63-9c57-7ea0e2210858'), 2.3545465),\n",
       " (('biosphere3', '6bdb666d-e227-4f57-9b1d-d25009d3c44b'), 2.3545465),\n",
       " (('biosphere3', '701cda28-4722-431c-b52f-05a735ef5ed3'), 2.3545465),\n",
       " (('biosphere3', '8c283de2-50d3-40c8-8bff-1e172c3398f8'), 2.3545465),\n",
       " (('biosphere3', '4bf1c333-419b-4278-ac14-247c8bf563d6'), 2.3545465),\n",
       " (('biosphere3', '06a4fedf-dab4-4ef1-90df-1d0ce8fe6477'), 1746.48198701),\n",
       " (('biosphere3', '50f528ca-45e7-42d0-b399-998ea63ddabf'), 1746.48198701),\n",
       " (('biosphere3', '494eb62d-3e16-4a81-b344-6d6dfd9fd4e2'), 1746.48198701),\n",
       " (('biosphere3', 'ee31ac2a-9336-4ed6-8077-9663003bc2f9'), 1746.48198701),\n",
       " (('biosphere3', '816c43d1-bc30-4a72-81db-08cb6be4da4f'), 1746.48198701),\n",
       " (('biosphere3', '96b52062-5e2f-40de-921a-f443c08862e4'), 6291.62957595),\n",
       " (('biosphere3', 'cf719b78-9834-4649-a1dd-8554c366c83f'), 6291.62957595),\n",
       " (('biosphere3', '82957257-07f3-4536-ac8b-175cb2353c75'), 6291.62957595),\n",
       " (('biosphere3', '4ac2ffc3-312e-4e2d-88c4-2630d4a73d8c'), 6291.62957595),\n",
       " (('biosphere3', '18ddd879-5496-4419-8ab7-e0d3864d977d'), 6291.62957595),\n",
       " (('biosphere3', '9b505d7c-4239-40e0-9dbe-55d38f3b85b3'), 1764.62950881),\n",
       " (('biosphere3', '26991da1-c263-4707-9f85-78685acc94dc'), 1764.62950881),\n",
       " (('biosphere3', '56b7d3b6-83d7-42b0-a65b-5ad23e29db47'), 1764.62950881),\n",
       " (('biosphere3', '18c582fe-7336-4138-8797-2db8b7a754c7'), 1764.62950881),\n",
       " (('biosphere3', '8ca6c84b-7f56-47e6-8d17-4f2dbc49a943'), 1764.62950881),\n",
       " (('biosphere3', '5dfb74d2-fa15-4f2d-bf7c-5aa45a41ec7f'), 13893.352601),\n",
       " (('biosphere3', 'b9c1ac70-e2eb-4fcd-bc63-befa92866af5'), 13893.352601),\n",
       " (('biosphere3', '23a9f33d-dbab-4fcc-8f49-1df731b0b827'), 13893.352601),\n",
       " (('biosphere3', 'e06e2e1e-ad87-49e2-a184-f2d1c48b7b46'), 13893.352601),\n",
       " (('biosphere3', '43bc4fc0-bfeb-46d6-b3de-f69c3ccd622a'), 13893.352601),\n",
       " (('biosphere3', 'f903c2fb-71bf-4568-99fc-6aa7ed7bc922'), 8.9151946),\n",
       " (('biosphere3', 'b328d33e-9a9f-407d-a767-5c64ccdc163f'), 8.9151946),\n",
       " (('biosphere3', 'd4b61c6c-a620-4a91-afc6-ca87ef97b55a'), 8.9151946),\n",
       " (('biosphere3', '432a3326-73f8-4752-bc4d-06b7b4b1243c'), 8.9151946),\n",
       " (('biosphere3', '2716807d-0266-48ff-bb7a-6e6c5fbfd5c5'), 8.9151946),\n",
       " (('biosphere3', '31f8976a-6f7d-487e-a850-eb495dbf0351'), 10239.2345992),\n",
       " (('biosphere3', '1013b9ec-a7b5-459c-be3d-74f61b9ce06e'), 10239.2345992),\n",
       " (('biosphere3', 'e93ba406-3df8-4e34-be54-0d556b2bb629'), 10239.2345992),\n",
       " (('biosphere3', 'c0e8ec60-a5ae-432e-97a5-cf76b6247a00'), 10239.2345992),\n",
       " (('biosphere3', '31a3e44c-4098-461e-aba2-f79540e05087'), 10239.2345992),\n",
       " (('biosphere3', '34de4196-871a-4db8-a182-589ab780a935'), 147.66224518),\n",
       " (('biosphere3', 'de8d76cb-7216-4e6f-8bf2-8cdf76e99902'), 147.66224518),\n",
       " (('biosphere3', '727835b8-c650-4d46-882f-35b2a366b559'), 147.66224518),\n",
       " (('biosphere3', '04a6edb8-624a-484e-8f85-d771657adae7'), 147.66224518),\n",
       " (('biosphere3', '3c8af80d-7ff8-43f4-b1a7-cef73b1b4682'), 147.66224518),\n",
       " (('biosphere3', '33a791a2-a1e7-446b-b25a-b3be6159bae4'), 676.80778461),\n",
       " (('biosphere3', '20d0fc73-b9ce-4001-ac15-893b30ed10a3'), 676.80778461),\n",
       " (('biosphere3', '8fbe2c56-c213-4501-b95e-ff57a76fbd6f'), 676.80778461),\n",
       " (('biosphere3', '151212b4-079b-43a2-96d5-a6eef59166ac'), 676.80778461),\n",
       " (('biosphere3', 'c9028b09-c12d-421b-9944-7d145e196ebc'), 676.80778461),\n",
       " (('biosphere3', 'f3bd723a-5276-4ae8-9860-b89537351a90'), 29.7),\n",
       " (('biosphere3', '6b1b495b-70ee-4be6-b1c2-3031aa4d6add'), 29.7),\n",
       " (('biosphere3', '70ef743b-3ed5-4a6d-b192-fb6d62378555'), 29.7),\n",
       " (('biosphere3', '0795345f-c7ae-410c-ad25-1845784c75f5'), 29.7),\n",
       " (('biosphere3', '5f7aad3d-566c-4d0d-ad59-e765f971aa0f'), 29.7),\n",
       " (('biosphere3', '288c4e8a-d371-4bc1-b45b-c4b0cefd400e'), 29.7),\n",
       " (('biosphere3', 'f757365c-c6fd-41fe-ad32-3594ccd97ef0'), 29.7),\n",
       " (('biosphere3', 'ef4566f0-60d5-4bbe-a2cb-7268a81fecd4'), 29.7),\n",
       " (('biosphere3', '9541a975-800f-4fed-9edf-28f6e411a015'), 29.7),\n",
       " (('biosphere3', '7f0ba7c9-341e-413d-80f6-8753727d65d1'), 29.7),\n",
       " (('biosphere3', '299c6564-426e-48c3-b516-fdf301d12127'), 29.7),\n",
       " (('biosphere3', '246c87af-4495-4977-8d39-eae397c1c8f1'), 12.18322764),\n",
       " (('biosphere3', '0f70e720-127e-44dc-bb85-438158235ab6'), 12.18322764),\n",
       " (('biosphere3', 'ed63abd0-7cc6-4825-8759-b367e560fe95'), 12.18322764),\n",
       " (('biosphere3', '18ea247b-edc2-43fe-89bd-cedd04102bcc'), 12.18322764),\n",
       " (('biosphere3', '370447a7-70d1-47bd-8577-0a32c4f53570'), 12.18322764),\n",
       " (('biosphere3', '6c977009-5c4e-4901-a4c1-ab20389cb972'), 28.5),\n",
       " (('biosphere3', '258263a0-6be3-4439-bd84-efee0498b849'), 28.5),\n",
       " (('biosphere3', '57bdb443-d4a6-423d-8024-959b8261d02e'), 28.5),\n",
       " (('biosphere3', 'da1157e2-7593-4dfd-80dd-a3449b37a4d8'), 28.5),\n",
       " (('biosphere3', 'baf58fc9-573c-419c-8c16-831ac03203b9'), 28.5),\n",
       " (('biosphere3', 'ba5c9458-44df-4d93-a7c3-9389f65166d8'), 1728.47068126),\n",
       " (('biosphere3', '6c833956-6302-47c3-8abc-7ecae92266fb'), 1728.47068126),\n",
       " (('biosphere3', '0f9f3e17-eb81-4adb-8170-049bc6b66728'), 1728.47068126),\n",
       " (('biosphere3', '86d12e70-0c64-4ecf-ba52-114fa0c5d402'), 1728.47068126),\n",
       " (('biosphere3', '5c97dd6c-aaa5-4477-aaf8-dbd0674499c4'), 1728.47068126),\n",
       " (('biosphere3', 'e59a199f-d4ed-4d43-82b1-71c4a8fae867'), 6625.78042077),\n",
       " (('biosphere3', '6d023c39-c04e-4305-b2e4-adc89b53e708'), 6625.78042077),\n",
       " (('biosphere3', 'b353e7d2-5b94-4b6e-a3e5-de0a10bef851'), 6625.78042077),\n",
       " (('biosphere3', '33681770-a0e1-4ce8-93c3-941fd607fa5f'), 6625.78042077),\n",
       " (('biosphere3', 'dfe1da1e-7756-4f7e-a393-6d5e2342a962'), 6625.78042077),\n",
       " (('biosphere3', '3feb6415-ae50-4bb7-b9d1-c18d99f8a87f'), 4662.93699438),\n",
       " (('biosphere3', '6e61b542-5681-44f4-afcb-e30368bca420'), 4662.93699438),\n",
       " (('biosphere3', 'a916ca1b-4ece-4630-a563-ae3253efc04f'), 4662.93699438),\n",
       " (('biosphere3', '51e99a55-bcdb-4d18-9484-6de4b142e09d'), 4662.93699438),\n",
       " (('biosphere3', '33a69662-583b-45b8-8cb9-94f59fca9133'), 4662.93699438),\n",
       " (('biosphere3', 'dc78690a-2b0a-49fc-8272-b811fb25ff6c'), 12397.6034385),\n",
       " (('biosphere3', 'a3724600-89c1-4f35-97c9-0de3adbadc8b'), 12397.6034385),\n",
       " (('biosphere3', '5e2e1740-1bb9-4157-b816-6cb5aa006437'), 12397.6034385),\n",
       " (('biosphere3', 'e5ba3517-a93f-422e-9ce2-f1007fcf6c06'), 12397.6034385),\n",
       " (('biosphere3', '8f87dcf1-0177-4d62-bea0-a5dd8647ef8c'), 12397.6034385),\n",
       " (('biosphere3', '17f7e776-7934-54af-8c3c-ed0247cb697b'), -10.8),\n",
       " (('biosphere3', '4c097625-506e-4dfc-a170-75fda90cf7cb'), 16069.997634),\n",
       " (('biosphere3', 'fdf090d7-ee05-4f33-8b7f-5504c718c3cd'), 16069.997634),\n",
       " (('biosphere3', 'f8cf5fd7-9f94-4870-9e6a-768deae9b766'), 16069.997634),\n",
       " (('biosphere3', 'e79e03c3-5b19-45f6-b3f3-bf710c6663d2'), 16069.997634),\n",
       " (('biosphere3', '1fdc280a-34d3-4513-b110-3f526b17c443'), 16069.997634),\n",
       " (('biosphere3', 'e2ccc98a-6d4e-443b-b11f-d16f32782833'), 8546.70453046),\n",
       " (('biosphere3', 'acbae70a-5450-448f-9038-c403cb496e1a'), 23506.8199932),\n",
       " (('biosphere3', '44e4d1ce-fa79-4ed5-93f9-445c4ff8df2e'), 23506.8199932),\n",
       " (('biosphere3', 'c7c769bb-89b9-4459-afed-e3acecd39339'), 23506.8199932),\n",
       " (('biosphere3', '35d1dff5-b535-4628-9826-4a8fce08a1f2'), 23506.8199932),\n",
       " (('biosphere3', '856c9aa2-c20c-49a8-9417-c71bdb5f17b0'), 23506.8199932),\n",
       " (('biosphere3', '4ec70203-13b0-58cc-b4dd-2fcce8a96732'), 3.9762)]"
      ]
     },
     "execution_count": 41,
     "metadata": {},
     "output_type": "execute_result"
    }
   ],
   "source": [
    "ipcc_2013_method.load()"
   ]
  },
  {
   "cell_type": "markdown",
   "metadata": {},
   "source": [
    "This contains tuples with (elementary flow, characterization factors)."
   ]
  },
  {
   "cell_type": "markdown",
   "metadata": {},
   "source": [
    "##### Nice display of data in methods "
   ]
  },
  {
   "cell_type": "markdown",
   "metadata": {
    "solution2": "shown",
    "solution2_first": true
   },
   "source": [
    "**Exercise:** Create a dictionary with keys = elementary flow names and values = characterization factors for the ILCD \"respiratory effects, inorganics\" method (including long-term emissions).  \n",
    "Bonus (optional): Generate a Pandas Series with the resulting dictionary. "
   ]
  },
  {
   "cell_type": "code",
   "execution_count": 42,
   "metadata": {
    "solution2": "shown"
   },
   "outputs": [
    {
     "data": {
      "text/plain": [
       "[('ILCD 1.0.8 2016 midpoint (obsolete)',\n",
       "  'human health',\n",
       "  'respiratory effects, inorganics'),\n",
       " ('ILCD 1.0.8 2016 midpoint no LT (obsolete)',\n",
       "  'human health',\n",
       "  'respiratory effects, inorganics'),\n",
       " ('ILCD 2.0 2018 midpoint', 'human health', 'respiratory effects, inorganics'),\n",
       " ('ILCD 2.0 2018 midpoint no LT',\n",
       "  'human health',\n",
       "  'respiratory effects, inorganics')]"
      ]
     },
     "execution_count": 42,
     "metadata": {},
     "output_type": "execute_result"
    }
   ],
   "source": [
    "# First exploration\n",
    "[m for m in bw.methods if 'ILCD' in str(m) \n",
    "                        and 'inorganics' in str(m)]"
   ]
  },
  {
   "cell_type": "code",
   "execution_count": 43,
   "metadata": {
    "solution2": "shown"
   },
   "outputs": [
    {
     "data": {
      "text/plain": [
       "Brightway2 Method: ILCD 1.0.8 2016 midpoint (obsolete): human health: respiratory effects, inorganics"
      ]
     },
     "execution_count": 43,
     "metadata": {},
     "output_type": "execute_result"
    }
   ],
   "source": [
    "# Refine search and assign to a variable\n",
    "ILCD_resp_effects_tuple = [m for m in bw.methods if 'ILCD' in str(m) \n",
    "                        and 'inorganics' in str(m)\n",
    "                        and 'no LT' not in str(m)][0]\n",
    "ILCD_resp_effects = bw.Method(ILCD_resp_effects_tuple)\n",
    "ILCD_resp_effects"
   ]
  },
  {
   "cell_type": "code",
   "execution_count": 44,
   "metadata": {
    "solution2": "shown"
   },
   "outputs": [
    {
     "data": {
      "text/plain": [
       "{'Ammonia': 0.0667,\n",
       " 'Carbon monoxide, fossil': 0.000517,\n",
       " 'Carbon monoxide, non-fossil': 0.000517,\n",
       " 'Nitrogen oxides': 0.00778,\n",
       " 'Particulates, < 2.5 um': 3.33,\n",
       " 'Sulfur dioxide': 0.0667,\n",
       " 'Sulfur trioxide': 0.0533}"
      ]
     },
     "execution_count": 44,
     "metadata": {},
     "output_type": "execute_result"
    }
   ],
   "source": [
    "# Generate the dictionary using a comprehension:\n",
    "ILCD_resp_effects_dict = {bw.get_activity(ef[0])['name']:ef[1] for ef in ILCD_resp_effects.load()}\n",
    "ILCD_resp_effects_dict"
   ]
  },
  {
   "cell_type": "code",
   "execution_count": 45,
   "metadata": {
    "solution2": "shown"
   },
   "outputs": [
    {
     "data": {
      "text/plain": [
       "Ammonia                        0.066700\n",
       "Carbon monoxide, fossil        0.000517\n",
       "Carbon monoxide, non-fossil    0.000517\n",
       "Nitrogen oxides                0.007780\n",
       "Particulates, < 2.5 um         3.330000\n",
       "Sulfur dioxide                 0.066700\n",
       "Sulfur trioxide                0.053300\n",
       "Name: ('ILCD 1.0.8 2016 midpoint (obsolete)', 'human health', 'respiratory effects, inorganics'), kg PM2.5-., dtype: float64"
      ]
     },
     "execution_count": 45,
     "metadata": {},
     "output_type": "execute_result"
    }
   ],
   "source": [
    "# Bonus: put the whole thing in a neat Pandas series\n",
    "pd.Series(ILCD_resp_effects_dict,\n",
    "          name=\"{}, {}\".format(ILCD_resp_effects.name, ILCD_resp_effects.metadata['unit']))"
   ]
  },
  {
   "cell_type": "markdown",
   "metadata": {},
   "source": [
    "Enough said for now about methods."
   ]
  },
  {
   "cell_type": "markdown",
   "metadata": {},
   "source": [
    "#### 1.4) LCI datases"
   ]
  },
  {
   "cell_type": "markdown",
   "metadata": {},
   "source": [
    "There is much information on the structure of LCI databases in Brightway2 [here](https://docs.brightwaylca.org/intro.html#inventory-databases), [here](http://nbviewer.jupyter.org/urls/bitbucket.org/cmutel/brightway2/raw/default/notebooks/Databases.ipynb) and [here](https://docs.brightwaylca.org/technical/bw2data.html#databases).  Probably the easiest way to learn about them, however, is to import one and have a look.  "
   ]
  },
  {
   "cell_type": "markdown",
   "metadata": {},
   "source": [
    "We are going to import an example database to see how Brightway works. We'll start a new project to make sure we have a clear difference between what we did before, and what we will do now."
   ]
  },
  {
   "cell_type": "code",
   "execution_count": 3,
   "metadata": {},
   "outputs": [],
   "source": [
    "bw.projects.set_current('bw2_class_2020_example_database')"
   ]
  },
  {
   "cell_type": "code",
   "execution_count": 11,
   "metadata": {},
   "outputs": [
    {
     "name": "stderr",
     "output_type": "stream",
     "text": [
      "Writing activities to SQLite3 database:\n"
     ]
    },
    {
     "name": "stdout",
     "output_type": "stream",
     "text": [
      "Extracted 4 worksheets in 0.01 seconds\n",
      "Applying strategy: csv_restore_tuples\n",
      "Applying strategy: csv_restore_booleans\n",
      "Applying strategy: csv_numerize\n",
      "Applying strategy: csv_drop_unknown\n",
      "Applying strategy: csv_add_missing_exchanges_section\n",
      "Applying strategy: strip_biosphere_exc_locations\n",
      "Applying strategy: set_code_by_activity_hash\n",
      "Applying strategy: assign_only_product_as_production\n",
      "Applying strategy: drop_falsey_uncertainty_fields_but_keep_zeros\n",
      "Applying strategy: convert_uncertainty_types_to_integers\n",
      "Applying strategy: convert_activity_parameters_to_list\n",
      "Applied 11 strategies in 0.00 seconds\n",
      "Applying strategy: link_iterable_by_fields\n"
     ]
    },
    {
     "name": "stderr",
     "output_type": "stream",
     "text": [
      "0% [#########] 100% | ETA: 00:00:00\n",
      "Total time elapsed: 00:00:00\n"
     ]
    },
    {
     "name": "stdout",
     "output_type": "stream",
     "text": [
      "Title: Writing activities to SQLite3 database:\n",
      "  Started: 03/13/2020 00:38:06\n",
      "  Finished: 03/13/2020 00:38:06\n",
      "  Total time elapsed: 00:00:00\n",
      "  CPU %: 62.30\n",
      "  Memory %: 0.76\n",
      "Created database: Mobility example\n"
     ]
    }
   ],
   "source": [
    "bw.add_example_database()"
   ]
  },
  {
   "cell_type": "markdown",
   "metadata": {},
   "source": [
    "Next, execute the following code. It will import the ecoinvent database. We will look in detail in another Notebook at what this code actually does."
   ]
  },
  {
   "cell_type": "code",
   "execution_count": 12,
   "metadata": {},
   "outputs": [
    {
     "data": {
      "text/plain": [
       "Databases dictionary with 1 object(s):\n",
       "\tMobility example"
      ]
     },
     "execution_count": 12,
     "metadata": {},
     "output_type": "execute_result"
    }
   ],
   "source": [
    "bw.databases"
   ]
  },
  {
   "cell_type": "markdown",
   "metadata": {},
   "source": [
    "To access the actual database, you need to use the Database method: "
   ]
  },
  {
   "cell_type": "code",
   "execution_count": 13,
   "metadata": {},
   "outputs": [],
   "source": [
    "me = bw.Database('Mobility example')"
   ]
  },
  {
   "cell_type": "markdown",
   "metadata": {},
   "source": [
    "This is a more advanced topic, but note that there are alternative backends. See [here](https://docs.brightwaylca.org/technical/bw2data.html#inventory-data-backends)."
   ]
  },
  {
   "cell_type": "markdown",
   "metadata": {},
   "source": [
    "Let's assign the database to a variable and see what we can do:"
   ]
  },
  {
   "cell_type": "code",
   "execution_count": 14,
   "metadata": {},
   "outputs": [
    {
     "data": {
      "text/plain": [
       "9"
      ]
     },
     "execution_count": 14,
     "metadata": {},
     "output_type": "execute_result"
    }
   ],
   "source": [
    "# Check the length of the database:\n",
    "len(me)"
   ]
  },
  {
   "cell_type": "markdown",
   "metadata": {},
   "source": [
    "Again, we can get an idea of useful methods and attributes by typing eidb. and Tab. Do this now."
   ]
  },
  {
   "cell_type": "code",
   "execution_count": null,
   "metadata": {
    "collapsed": true
   },
   "outputs": [],
   "source": [
    "me. #Press tab!"
   ]
  },
  {
   "cell_type": "markdown",
   "metadata": {},
   "source": [
    "##### LCI activities"
   ]
  },
  {
   "cell_type": "markdown",
   "metadata": {},
   "source": [
    "In the context of LCI databases, activities are the nodes \"within the technosphere\". They are therefore the columns in the technosphere matrix $A$.  \n",
    "There are different ways to get access to an activity. Let's use the `random()` method for now to explore a random activity in the ecoinvent database."
   ]
  },
  {
   "cell_type": "code",
   "execution_count": 15,
   "metadata": {},
   "outputs": [],
   "source": [
    "random_act = me.random()"
   ]
  },
  {
   "cell_type": "code",
   "execution_count": 16,
   "metadata": {},
   "outputs": [
    {
     "data": {
      "text/plain": [
       "'Driving an combustion car' (kilometer, Europe, None)"
      ]
     },
     "execution_count": 16,
     "metadata": {},
     "output_type": "execute_result"
    }
   ],
   "source": [
    "random_act"
   ]
  },
  {
   "cell_type": "code",
   "execution_count": 17,
   "metadata": {},
   "outputs": [
    {
     "data": {
      "text/plain": [
       "bw2data.backends.peewee.proxies.Activity"
      ]
     },
     "execution_count": 17,
     "metadata": {},
     "output_type": "execute_result"
    }
   ],
   "source": [
    "type(random_act)"
   ]
  },
  {
   "cell_type": "markdown",
   "metadata": {},
   "source": [
    "To see what is stored in an activity object, let's convert our random act in a dictionary: "
   ]
  },
  {
   "cell_type": "code",
   "execution_count": 18,
   "metadata": {},
   "outputs": [
    {
     "data": {
      "text/plain": [
       "{'code': 'Driving an combustion car',\n",
       " 'location': 'Europe',\n",
       " 'unit': 'kilometer',\n",
       " 'name': 'Driving an combustion car',\n",
       " 'worksheet name': 'Gasoline car',\n",
       " 'database': 'Mobility example',\n",
       " 'reference product': 'Driving an combustion car',\n",
       " 'production amount': 1.0}"
      ]
     },
     "execution_count": 18,
     "metadata": {},
     "output_type": "execute_result"
    }
   ],
   "source": [
    "random_act.as_dict()"
   ]
  },
  {
   "cell_type": "markdown",
   "metadata": {},
   "source": [
    "Notice one important thing: **no exchanges**!  \n",
    "Indeed, the exchanges and the activities are stored in two different tables of the `databases.db` database.  \n",
    "It is possible, however, to iterate through the exchanges of the activities."
   ]
  },
  {
   "cell_type": "markdown",
   "metadata": {},
   "source": [
    "##### Searching and getting LCI activities"
   ]
  },
  {
   "cell_type": "markdown",
   "metadata": {},
   "source": [
    "Searching and getting LCI activities is done exactly the same way as for activities in the biosphere3 database:"
   ]
  },
  {
   "cell_type": "code",
   "execution_count": 19,
   "metadata": {},
   "outputs": [
    {
     "data": {
      "text/plain": [
       "{'code': 'Driving an combustion car',\n",
       " 'location': 'Europe',\n",
       " 'unit': 'kilometer',\n",
       " 'name': 'Driving an combustion car',\n",
       " 'worksheet name': 'Gasoline car',\n",
       " 'database': 'Mobility example',\n",
       " 'reference product': 'Driving an combustion car',\n",
       " 'production amount': 1.0}"
      ]
     },
     "execution_count": 19,
     "metadata": {},
     "output_type": "execute_result"
    }
   ],
   "source": [
    "random_act.as_dict()"
   ]
  },
  {
   "cell_type": "code",
   "execution_count": 20,
   "metadata": {},
   "outputs": [
    {
     "data": {
      "text/plain": [
       "['Driving an electric car' (kilometer, Europe, None),\n",
       " 'Driving an combustion car' (kilometer, Europe, None)]"
      ]
     },
     "execution_count": 20,
     "metadata": {},
     "output_type": "execute_result"
    }
   ],
   "source": [
    "# Using search\n",
    "me.search('driv*')"
   ]
  },
  {
   "cell_type": "code",
   "execution_count": 21,
   "metadata": {},
   "outputs": [
    {
     "data": {
      "text/plain": [
       "'Europe'"
      ]
     },
     "execution_count": 21,
     "metadata": {},
     "output_type": "execute_result"
    }
   ],
   "source": [
    "random_act['location']"
   ]
  },
  {
   "cell_type": "code",
   "execution_count": null,
   "metadata": {},
   "outputs": [],
   "source": [
    "# Using list comprehensions:\n",
    "[act for act in eidb if 'lorry' in act['name']\n",
    "                    and 'RER' in act['location']\n",
    "                    and '>32t' in act['name']\n",
    "                    and 'operation' not in act['name']\n",
    "]"
   ]
  },
  {
   "cell_type": "markdown",
   "metadata": {
    "solution2": "shown",
    "solution2_first": true
   },
   "source": [
    "**Exercise:** Return an activity for electricity production, coal-fired power plants in Germany"
   ]
  },
  {
   "cell_type": "code",
   "execution_count": null,
   "metadata": {
    "solution2": "shown"
   },
   "outputs": [],
   "source": [
    "[act for act in eidb if 'electricity' in act['name']\n",
    "                        and 'coal' in act['name']\n",
    "                        and act['location']=='DE'\n",
    "              ][0]"
   ]
  },
  {
   "cell_type": "markdown",
   "metadata": {},
   "source": [
    "#### LCI exchanges"
   ]
  },
  {
   "cell_type": "markdown",
   "metadata": {},
   "source": [
    "**`Exchanges`** are the edges between nodes.\n",
    "\n",
    "These can be:  \n",
    "  - an edge between two activities within the technosphere (an element $a_{ij}$ of matrix $A$)  \n",
    "  - edges between an activity in the technosphere and an activity in the \"biosphere\" (an element $b_{kj}$ of the biosphere matrix $B$)."
   ]
  },
  {
   "cell_type": "markdown",
   "metadata": {},
   "source": [
    "One can iterate through **all** exchanges that have a given activity as `output`"
   ]
  },
  {
   "cell_type": "code",
   "execution_count": 22,
   "metadata": {},
   "outputs": [
    {
     "name": "stdout",
     "output_type": "stream",
     "text": [
      "Exchange: 1.0 kilometer 'Driving an combustion car' (kilometer, Europe, None) to 'Driving an combustion car' (kilometer, Europe, None)>\n",
      "Exchange: 5e-06 unit 'Combustion car' (unit, GLO, ('Combustion car',)) to 'Driving an combustion car' (kilometer, Europe, None)>\n",
      "Exchange: 0.14259999999999998 kilogram 'CO2' (kilogram, None, None) to 'Driving an combustion car' (kilometer, Europe, None)>\n"
     ]
    }
   ],
   "source": [
    "for exc in random_act.exchanges():\n",
    "    print(exc)"
   ]
  },
  {
   "cell_type": "markdown",
   "metadata": {},
   "source": [
    "One can also iterate through subsets of the exchanges:  \n",
    "  - Technosphere exchanges: exchanges linking to other activities in the technosphere, `activity.technosphere()`  \n",
    "  - Biosphere exchanges: AKA elementary flows, linking to activities in the biosphere database `activity.biosphere()`  \n",
    "  - Production exchange: the reference flow of the activity `activity.production`  "
   ]
  },
  {
   "cell_type": "markdown",
   "metadata": {},
   "source": [
    "Let's assign a **technosphere exchange** to a variable to learn more about it:"
   ]
  },
  {
   "cell_type": "code",
   "execution_count": null,
   "metadata": {},
   "outputs": [],
   "source": [
    "random_techno_exchange = [exc for exc in random_act.technosphere()][0]\n",
    "random_techno_exchange"
   ]
  },
  {
   "cell_type": "code",
   "execution_count": null,
   "metadata": {},
   "outputs": [],
   "source": [
    "type(random_techno_exchange)"
   ]
  },
  {
   "cell_type": "markdown",
   "metadata": {},
   "source": [
    "Again, the type is a proxy (refer to the diagram above about the different translation layers)."
   ]
  },
  {
   "cell_type": "code",
   "execution_count": null,
   "metadata": {},
   "outputs": [],
   "source": [
    "# Amount, or weight of the edge\n",
    "random_techno_exchange.amount"
   ]
  },
  {
   "cell_type": "code",
   "execution_count": null,
   "metadata": {},
   "outputs": [],
   "source": [
    "# Activity the exchange stems from\n",
    "random_techno_exchange.input"
   ]
  },
  {
   "cell_type": "code",
   "execution_count": null,
   "metadata": {},
   "outputs": [],
   "source": [
    "# Activity the exchange terminates in\n",
    "random_techno_exchange.output"
   ]
  },
  {
   "cell_type": "code",
   "execution_count": null,
   "metadata": {},
   "outputs": [],
   "source": [
    "# Exchange as a dictionary\n",
    "random_techno_exchange.as_dict()"
   ]
  },
  {
   "cell_type": "markdown",
   "metadata": {},
   "source": [
    "Let's now look at a production exchange"
   ]
  },
  {
   "cell_type": "markdown",
   "metadata": {
    "solution2": "shown",
    "solution2_first": true
   },
   "source": [
    "**Exercise:** Assign a biosphere flow to a variable, and check the following:  \n",
    "  - Is the output the same as for the technosphere exchange?  \n",
    "  - From what database does the biosphere exchange come from?  \n",
    "  - What is the amount of the exchange (i.e. the weight of the edge connecting the two activities)?\n",
    "  \n",
    "NOTE: If you get a ` list index out of range` error when trying to subscript your list comprehension, it means your list comprehension is empty, i.e. that there are no biosphere flows associated with the activity."
   ]
  },
  {
   "cell_type": "code",
   "execution_count": null,
   "metadata": {
    "solution2": "shown"
   },
   "outputs": [],
   "source": [
    "# Assign the exchange to a variable:\n",
    "random_bio_exchange = [exc for exc in random_act.biosphere()][0]\n",
    "random_bio_exchange"
   ]
  },
  {
   "cell_type": "code",
   "execution_count": null,
   "metadata": {
    "solution2": "shown"
   },
   "outputs": [],
   "source": [
    "# Output of biosphere exchange\n",
    "random_bio_exchange.output"
   ]
  },
  {
   "cell_type": "code",
   "execution_count": null,
   "metadata": {
    "solution2": "shown"
   },
   "outputs": [],
   "source": [
    "# Is it the same as the output of the technosphere exchange? It should be!\n",
    "random_bio_exchange.output == random_techno_exchange.output"
   ]
  },
  {
   "cell_type": "code",
   "execution_count": null,
   "metadata": {
    "solution2": "shown"
   },
   "outputs": [],
   "source": [
    "# Database of the random biosphere exchange input - `.input`directly returns the activity proxy!\n",
    "random_bio_exchange.input.key[0]"
   ]
  },
  {
   "cell_type": "code",
   "execution_count": null,
   "metadata": {
    "solution2": "shown"
   },
   "outputs": [],
   "source": [
    "# Amount of exchange\n",
    "random_bio_exchange['amount']"
   ]
  },
  {
   "cell_type": "markdown",
   "metadata": {},
   "source": [
    "## 2) My first LCA"
   ]
  },
  {
   "cell_type": "markdown",
   "metadata": {},
   "source": [
    "Brightway has a so-called LCA object.  \n",
    "It is instantiated using `LCA(args)`.  \n",
    "The only required argument is a functional unit, described by a dictionary with keys = activities and values = amounts (more [here](https://docs.brightwaylca.org/lca.html#specifying-a-functional-unit)).  \n",
    "A second argument that is often passed is an LCIA method, passed using the method tuple.  "
   ]
  },
  {
   "cell_type": "markdown",
   "metadata": {},
   "source": [
    "### 2.1) General syntax of LCA calculations"
   ]
  },
  {
   "cell_type": "markdown",
   "metadata": {},
   "source": [
    "Let's create our first LCA object using our random activity and our IPCC method.  "
   ]
  },
  {
   "cell_type": "code",
   "execution_count": 25,
   "metadata": {},
   "outputs": [],
   "source": [
    "myFirstLCA_quick = bw.LCA({(\"Mobility example\", \"Driving an electric car\"): 1}, (\"IPCC\", \"simple\"))"
   ]
  },
  {
   "cell_type": "markdown",
   "metadata": {},
   "source": [
    "The steps to get to the impact score are as follows:"
   ]
  },
  {
   "cell_type": "code",
   "execution_count": 26,
   "metadata": {},
   "outputs": [
    {
     "data": {
      "text/plain": [
       "0.18248161259647167"
      ]
     },
     "execution_count": 26,
     "metadata": {},
     "output_type": "execute_result"
    }
   ],
   "source": [
    "myFirstLCA_quick.lci()    # Builds matrices, solves the system, generates an LCI matrix.\n",
    "myFirstLCA_quick.lcia()   # Characterization, i.e. the multiplication of the elements \n",
    "                          # of the LCI matrix with characterization factors from the chosen method\n",
    "myFirstLCA_quick.score    # Returns the score, i.e. the sum of the characterized inventory"
   ]
  },
  {
   "cell_type": "markdown",
   "metadata": {},
   "source": [
    "Let's not take a closer look at the LCA object and its methods/attributes. We'll do this by creating a new LCA object: "
   ]
  },
  {
   "cell_type": "code",
   "execution_count": null,
   "metadata": {
    "collapsed": true
   },
   "outputs": [],
   "source": [
    "myFirstLCA = bw.LCA({(\"Mobility example\", \"Driving an electric car\"): 1}, (\"IPCC\", \"simple\"))"
   ]
  },
  {
   "cell_type": "markdown",
   "metadata": {},
   "source": [
    "### 2.2) the `demand` attribute"
   ]
  },
  {
   "cell_type": "code",
   "execution_count": null,
   "metadata": {},
   "outputs": [],
   "source": [
    "myFirstLCA.demand"
   ]
  },
  {
   "cell_type": "markdown",
   "metadata": {},
   "source": [
    "To access the actual activity from the demand, you would do this:"
   ]
  },
  {
   "cell_type": "code",
   "execution_count": null,
   "metadata": {},
   "outputs": [],
   "source": [
    "demanded_act = list(myFirstLCA.demand.keys())[0]\n",
    "demanded_act"
   ]
  },
  {
   "cell_type": "code",
   "execution_count": null,
   "metadata": {},
   "outputs": [],
   "source": [
    "demanded_act == random_act"
   ]
  },
  {
   "cell_type": "markdown",
   "metadata": {},
   "source": [
    "There are also other attributes that have simply not been built yet, such as the `demand_array` and the `score`. To generate them, we first need to actually build the matrices. This will be done when calling the `.lci()` method."
   ]
  },
  {
   "cell_type": "markdown",
   "metadata": {},
   "source": [
    "### 2.3) Reminder of the system that needs to be solved in calculating an LCI"
   ]
  },
  {
   "cell_type": "markdown",
   "metadata": {},
   "source": [
    "Before actually running the `.lci()` method, here's a quick refresher of the actual calculation that Brightway will need to do to calculate the inventory:  \n",
    "\n",
    "$g=BA^{-1}f$  \n",
    "\n",
    "where:  \n",
    "\n",
    "  - $A$ = the technosphere matrix  \n",
    "  - $B$ = the biosphere matrix (matrix with elementary flows)  \n",
    "  - $f$ = the final demand vector  \n",
    "  - $g$ = the inventory  "
   ]
  },
  {
   "cell_type": "markdown",
   "metadata": {
    "solution": "hidden",
    "solution_first": true
   },
   "source": [
    "**Discussion:** Knowing what you do about the structure of Brightway (notably, activities and exchanges), what needs to happen to generate these matrices?"
   ]
  },
  {
   "cell_type": "markdown",
   "metadata": {
    "solution": "hidden"
   },
   "source": [
    "To consider:  \n",
    "  - how should the order of the rows and columns be determined?  \n",
    "  - how should we keep track of what is in each row and column?  \n",
    "  - The parameters in the matrices are sometimes actually probability distribution functions - how should we consider this uncertainty information?  \n",
    "  - The matrices are *sparse*, i.e. they are mostly made up of zeros. Should we consider this? Why? How?"
   ]
  },
  {
   "cell_type": "markdown",
   "metadata": {},
   "source": [
    "### 2.4) Building the matrices"
   ]
  },
  {
   "cell_type": "markdown",
   "metadata": {},
   "source": [
    "#### Structured arrays"
   ]
  },
  {
   "cell_type": "markdown",
   "metadata": {},
   "source": [
    "LCI data imported in Brightway is stored in the `databases.db` database, discussed above.  \n",
    "It is also stored in [numpy *structured arrays*](https://docs.scipy.org/doc/numpy/user/basics.rec.html). Here is a look at the  structured array for my ecoinvent 2.2 import (put in a pandas DataFrame because it looks nicer):  \n",
    "<img src=\"images\\structured_array_ecoinvent22.JPG\">"
   ]
  },
  {
   "cell_type": "markdown",
   "metadata": {
    "solution2": "shown",
    "solution2_first": true
   },
   "source": [
    "**Exercise**(not core): Load the structured array of the ecoinvent database you are working with now."
   ]
  },
  {
   "cell_type": "code",
   "execution_count": null,
   "metadata": {},
   "outputs": [],
   "source": [
    "eidb.filepath_processed()"
   ]
  },
  {
   "cell_type": "code",
   "execution_count": null,
   "metadata": {
    "solution2": "shown"
   },
   "outputs": [],
   "source": [
    "your_structured_array = np.load(eidb.filepath_processed())\n",
    "pd.DataFrame(your_structured_array).head()"
   ]
  },
  {
   "cell_type": "markdown",
   "metadata": {},
   "source": [
    "In this array:  \n",
    "  - `input` and `output` columns are integers that map to an activity. This mapping is found in the `mapping.pickle` file in the `project` directory and it looks something like this:"
   ]
  },
  {
   "cell_type": "code",
   "execution_count": null,
   "metadata": {},
   "outputs": [],
   "source": [
    "pd.Series(bw.mapping).head()"
   ]
  },
  {
   "cell_type": "markdown",
   "metadata": {},
   "source": [
    "  - `row` and `col`store *dummy* placeholder information about the location of the parameter in the matrices. \n",
    "  - the `type` indicates whether the exchange is a reference flow (`type`=0), technosphere exchange (`type`=1) or elementary flow (`type`=2).  \n",
    "  - the other columns deal with uncertainty data. We'll cover that later, but one can always read about these columns in the [`stats_arrays` documentation](http://stats-arrays.readthedocs.io/en/latest/)"
   ]
  },
  {
   "cell_type": "markdown",
   "metadata": {},
   "source": [
    "When the `.lci()` method is called, the structured arrayas are used to build matrices. The code responsible to do this is in the [`MatrixBuilder` class methods](https://bitbucket.org/cmutel/brightway2-calc/src/105e24e2d803c96773651ed73c43d850f9c23548/bw2calc/matrices.py?at=default&fileviewer=file-view-default). \n",
    "\n",
    "The method `MatrixBuilder.build_dictionary` is used to take input and output values, respectively, and figure out which rows and columns they correspond to. The actual code is succinct - only one line - but what it does is:\n",
    "  - Get all unique values, as each value will appear multiple times\n",
    "  - Sort these values\n",
    "  - Give them integer indices, starting with zero\n",
    "This information on row and column indices is sufficient to build matrices. These matrices are build in a [COOrdinate sparse matrix](https://docs.scipy.org/doc/scipy/reference/generated/scipy.sparse.coo_matrix.html) format, where, for each exchange, three values are required: row position, column position, and amount (the actual value). The sparse matrices are actually stored in [CSR format](https://docs.scipy.org/doc/scipy/reference/generated/scipy.sparse.csr_matrix.html#scipy.sparse.csr_matrix), but this is a detail.  \n",
    "\n",
    "Some more details are are found [here](https://docs.brightwaylca.org/lca.html#building-matrices).  "
   ]
  },
  {
   "cell_type": "markdown",
   "metadata": {},
   "source": [
    "Let's now finally run the `.lci()`."
   ]
  },
  {
   "cell_type": "code",
   "execution_count": null,
   "metadata": {
    "collapsed": true
   },
   "outputs": [],
   "source": [
    "myFirstLCA.lci()"
   ]
  },
  {
   "cell_type": "markdown",
   "metadata": {},
   "source": [
    "Here's what the structured arrays *now* look like:  "
   ]
  },
  {
   "cell_type": "code",
   "execution_count": null,
   "metadata": {},
   "outputs": [],
   "source": [
    "pd.DataFrame(myFirstLCA.bio_params).head(5) # Technosphere parameters are at myFirstLCA.tech_params"
   ]
  },
  {
   "cell_type": "markdown",
   "metadata": {},
   "source": [
    "We see that the row and col numbers are no longer dummy variables, but that they actually have real matrix indices."
   ]
  },
  {
   "cell_type": "markdown",
   "metadata": {},
   "source": [
    "#### Dictionaries that map between incides and activities"
   ]
  },
  {
   "cell_type": "markdown",
   "metadata": {},
   "source": [
    "One of the useful things that the `MatrixBuilder` produces are `dictionaries` that map row and column numbers to the keys of activities.  There are three such dictionaries, all directly accessible as attributes of the LCA object:\n",
    " - `activity_dict`: Columns in the technosphere matrix $A$ or biosphere matrix $B$\n",
    " - `product_dict` : Rows in the technosphere matrix $A$  \n",
    " - `biosphere_dict`: Rows in the biosphere matrix $B$"
   ]
  },
  {
   "cell_type": "markdown",
   "metadata": {},
   "source": [
    "Here what this dictionary looks like:"
   ]
  },
  {
   "cell_type": "code",
   "execution_count": null,
   "metadata": {},
   "outputs": [],
   "source": [
    "myFirstLCA.activity_dict"
   ]
  },
  {
   "cell_type": "markdown",
   "metadata": {},
   "source": [
    "So, if I know the key to my activity (which, again,  is a `tuple` consisting of the database name and the activity code), I can read the column index (from `activity_dict`) or row index (from `product_dict` or `biosphere_dict` for the $A$ or $B$ matrices, respectively). \n",
    "\n",
    "Let's find out what column is associated with the activity that is producing our final demand as reference flow."
   ]
  },
  {
   "cell_type": "code",
   "execution_count": null,
   "metadata": {},
   "outputs": [],
   "source": [
    "# Getting the key from the `demand`attribute:\n",
    "act_key = list(myFirstLCA.demand)[0].key\n",
    "# Getting the column number from the activity_dict:\n",
    "col_index = myFirstLCA.activity_dict[act_key]\n",
    "print(\"The column index for activity {} is {}\".format(act_key, col_index))"
   ]
  },
  {
   "cell_type": "markdown",
   "metadata": {},
   "source": [
    "While this is useful, it is often more useful to determine what a row or column in the matrices actually refers to. In these cases, we need a dictionary that maps row or column indices to activity keys, and not the opposite.  \n",
    "We can do this by reversing our dictionaries:"
   ]
  },
  {
   "cell_type": "code",
   "execution_count": null,
   "metadata": {},
   "outputs": [],
   "source": [
    "myFirstLCA_rev_activity_dict = {value:key for key, value in myFirstLCA.activity_dict.items()}\n",
    "myFirstLCA_rev_activity_dict"
   ]
  },
  {
   "cell_type": "markdown",
   "metadata": {},
   "source": [
    "As a convenience, Brightway offers a method that will generate the three reverse dictionaries simultaneously.  \n",
    "`.reverse_dict()` returns three reverse dicts (reverse activity dict,  reverse product dict,  reverse biosphere dict) *in that order*. The syntax for creating and assigning these reverse dicts is therefore: "
   ]
  },
  {
   "cell_type": "code",
   "execution_count": null,
   "metadata": {
    "collapsed": true
   },
   "outputs": [],
   "source": [
    "myFirstLCA_rev_act_dict, myFirstLCA_rev_product_dict, myFirstLCA_rev_bio_dict = myFirstLCA.reverse_dict()"
   ]
  },
  {
   "cell_type": "markdown",
   "metadata": {},
   "source": [
    "#### $A$ and $B$ Matrices"
   ]
  },
  {
   "cell_type": "markdown",
   "metadata": {},
   "source": [
    "We can also access the matrices that were constructed. Let's look at the technosphere matrix ($A$).  \n",
    "The ** $A$ matrix**, with each element $a_{ij}$ provides information on the amount of input or output of product $i$ from activity $j$. When $i=j$, the element $a_{ij}$ is the *reference flow* for the activity described in the column."
   ]
  },
  {
   "cell_type": "code",
   "execution_count": null,
   "metadata": {},
   "outputs": [],
   "source": [
    "myFirstLCA.technosphere_matrix"
   ]
  },
  {
   "cell_type": "markdown",
   "metadata": {},
   "source": [
    "I am told that the dimensions of the matrix is $n*n$ where $n$ is the number of activities in my product system, and that the amount of actually stored elements is much less than $n^2$ (because the matrix is *sparse* and zero values are not stored).  "
   ]
  },
  {
   "cell_type": "markdown",
   "metadata": {},
   "source": [
    "We can have an idea of what it stores by printing it out:"
   ]
  },
  {
   "cell_type": "code",
   "execution_count": null,
   "metadata": {},
   "outputs": [],
   "source": [
    "print(myFirstLCA.technosphere_matrix)"
   ]
  },
  {
   "cell_type": "markdown",
   "metadata": {},
   "source": [
    "It therefore stores both the coordinates and the values (as expected).\n",
    "We can slice this matrix using coordinates. For example, let's say we wanted a view of the exchanges associated with the unit process providing our functional unit.  \n",
    "We already know found the column number for that activity: "
   ]
  },
  {
   "cell_type": "code",
   "execution_count": null,
   "metadata": {},
   "outputs": [],
   "source": [
    "print(\"As a reminder, the column index for  {} is  {}\".format(act_key, col_index))"
   ]
  },
  {
   "cell_type": "markdown",
   "metadata": {},
   "source": [
    "To return the whole column from the $A$ matrix, we therefore slice the $A$ matrix.  \n",
    "Python notes:  \n",
    "  - In Python, slicing is done using []\n",
    "  - We specify rows first, then columns  \n",
    "  - `:` refers to \"the whole row\" or \"the whole column\" (depending if it is passed first or second in the []) "
   ]
  },
  {
   "cell_type": "code",
   "execution_count": null,
   "metadata": {},
   "outputs": [],
   "source": [
    "myColumn = myFirstLCA.technosphere_matrix[:, col_index]\n",
    "myColumn"
   ]
  },
  {
   "cell_type": "markdown",
   "metadata": {},
   "source": [
    "Printing this out gives:"
   ]
  },
  {
   "cell_type": "code",
   "execution_count": null,
   "metadata": {},
   "outputs": [],
   "source": [
    "print(myColumn)"
   ]
  },
  {
   "cell_type": "markdown",
   "metadata": {},
   "source": [
    "Not too useful: it would be better to get the *names* to these exchanges.  \n",
    "We need to do two things:  \n",
    "  - Get the indices from the CSR matrix (we can do this by converting it to a sparse matrix in `COOrdinate` format first)  \n",
    "  - Get the activity code for the each index (we can do this using the reverse of the `activity_dict`)  \n",
    "  - Use `get_activity` to access the actual names of the activities.  "
   ]
  },
  {
   "cell_type": "markdown",
   "metadata": {},
   "source": [
    "1) Converting the CSR matrix to a COO matrix:  "
   ]
  },
  {
   "cell_type": "code",
   "execution_count": null,
   "metadata": {},
   "outputs": [],
   "source": [
    "myColumnCOO = myColumn.tocoo()\n",
    "myColumnCOO"
   ]
  },
  {
   "cell_type": "markdown",
   "metadata": {},
   "source": [
    "It is still a sparse matrix with the same number of elements, and it looks quite like the CSR version when we print it out:"
   ]
  },
  {
   "cell_type": "code",
   "execution_count": null,
   "metadata": {},
   "outputs": [],
   "source": [
    "print(myColumnCOO)"
   ]
  },
  {
   "cell_type": "markdown",
   "metadata": {},
   "source": [
    "However, we can directly access the rows and column indices using `row` and `col`:  "
   ]
  },
  {
   "cell_type": "code",
   "execution_count": null,
   "metadata": {},
   "outputs": [],
   "source": [
    "myColumnCOO.row"
   ]
  },
  {
   "cell_type": "markdown",
   "metadata": {},
   "source": [
    "2) Get the activity code for each element using the **reverse** product dictionary we produced above:"
   ]
  },
  {
   "cell_type": "code",
   "execution_count": null,
   "metadata": {},
   "outputs": [],
   "source": [
    "# Using a list comprehension:\n",
    "[myFirstLCA_rev_product_dict[i] for i in myColumnCOO.row]"
   ]
  },
  {
   "cell_type": "markdown",
   "metadata": {},
   "source": [
    "It would be even nicer to get the names for these:"
   ]
  },
  {
   "cell_type": "code",
   "execution_count": null,
   "metadata": {},
   "outputs": [],
   "source": [
    "names_of_my_inputs = [bw.get_activity(myFirstLCA_rev_product_dict[i])['name'] for i in myColumnCOO.row]\n",
    "names_of_my_inputs"
   ]
  },
  {
   "cell_type": "markdown",
   "metadata": {},
   "source": [
    "We can put these in a neat Pandas Series, with actual names and amounts:"
   ]
  },
  {
   "cell_type": "code",
   "execution_count": null,
   "metadata": {},
   "outputs": [],
   "source": [
    "# First create a dict with the information I want:\n",
    "myColumnAsDict = dict(zip(names_of_my_inputs,myColumnCOO.data))\n",
    "# Create Pandas Series from dict\n",
    "pd.Series(myColumnAsDict, name=\"Nice series with information on exchanges in my foreground process\")"
   ]
  },
  {
   "cell_type": "markdown",
   "metadata": {
    "solution": "shown",
    "solution_first": true
   },
   "source": [
    "Alternative way to generate similar information without even looking at the matrices:"
   ]
  },
  {
   "cell_type": "code",
   "execution_count": null,
   "metadata": {
    "solution": "shown"
   },
   "outputs": [],
   "source": [
    "pd.Series({bw.get_activity(exc.input)['name']:exc.amount for exc in random_act.technosphere()}, \n",
    "          name=\"alternative way to generate exchanges\")"
   ]
  },
  {
   "cell_type": "markdown",
   "metadata": {
    "solution": "shown"
   },
   "source": [
    "Note the differences:  \n",
    "  - The reference flow is not there (activity.technosphere() only returns technoshere exchanges where the input is not equal to the output)  \n",
    "  - The values are positive, not negative (because the $A$ matrix is $I-Z$ where $Z$ contains the information on these inputs."
   ]
  },
  {
   "cell_type": "markdown",
   "metadata": {
    "solution": "shown",
    "solution2": "shown",
    "solution2_first": true
   },
   "source": [
    "**Exercise**: Create a Pandas Series with the elementary flows of the activity supplying the reference flow for myFirstLCA."
   ]
  },
  {
   "cell_type": "code",
   "execution_count": null,
   "metadata": {
    "solution2": "shown"
   },
   "outputs": [],
   "source": [
    "# Solution\n",
    "myBioColumn = myFirstLCA.biosphere_matrix[:, col_index]\n",
    "myBioValues = myBioColumn.tocoo().data\n",
    "myBioNames = [bw.get_activity(myFirstLCA_rev_bio_dict[row])['name'] for row in myBioColumn.tocoo().row]\n",
    "pd.Series(dict(zip(myBioNames, myBioValues)))"
   ]
  },
  {
   "cell_type": "markdown",
   "metadata": {},
   "source": [
    "#### Demand array $f$"
   ]
  },
  {
   "cell_type": "markdown",
   "metadata": {},
   "source": [
    "The demand array is the $f$ in $As=f$. \n",
    "It is an attribute of the LCA object:"
   ]
  },
  {
   "cell_type": "code",
   "execution_count": null,
   "metadata": {},
   "outputs": [],
   "source": [
    "myFirstLCA.demand_array"
   ]
  },
  {
   "cell_type": "markdown",
   "metadata": {},
   "source": [
    "Looks like it is all zeros, but not so:"
   ]
  },
  {
   "cell_type": "code",
   "execution_count": null,
   "metadata": {},
   "outputs": [],
   "source": [
    "myFirstLCA.demand_array.sum()"
   ]
  },
  {
   "cell_type": "markdown",
   "metadata": {},
   "source": [
    "So where is the one? We can know this by using our `activity_dict`."
   ]
  },
  {
   "cell_type": "code",
   "execution_count": null,
   "metadata": {},
   "outputs": [],
   "source": [
    "demand_database = list(myFirstLCA.demand.keys())[0]['database']\n",
    "demand_code = list(myFirstLCA.demand.keys())[0]['code']\n",
    "(demand_database, demand_code)"
   ]
  },
  {
   "cell_type": "code",
   "execution_count": null,
   "metadata": {},
   "outputs": [],
   "source": [
    "row_of_demand = myFirstLCA.activity_dict[(demand_database, demand_code)]\n",
    "row_of_demand # Row number of our demand vector containing the functional unit."
   ]
  },
  {
   "cell_type": "code",
   "execution_count": null,
   "metadata": {},
   "outputs": [],
   "source": [
    "myFirstLCA.demand_array[row_of_demand]"
   ]
  },
  {
   "cell_type": "markdown",
   "metadata": {},
   "source": [
    "### 2.5) Solution to the inventory calculation"
   ]
  },
  {
   "cell_type": "markdown",
   "metadata": {},
   "source": [
    "We saw above how `.lci()` produced the $A$ and $B$ matrices.  \n",
    "`.lci()` also *solves* the equation $As=f$ and calculated the inventory by multiplying the solution to this equation by the biosphere matrix.  "
   ]
  },
  {
   "cell_type": "markdown",
   "metadata": {},
   "source": [
    "#### Supply array"
   ]
  },
  {
   "cell_type": "markdown",
   "metadata": {},
   "source": [
    "Vector containing the amount each activity will need to provide to meet the functional demand, i.e. $s=A^{-1}f$."
   ]
  },
  {
   "cell_type": "code",
   "execution_count": null,
   "metadata": {},
   "outputs": [],
   "source": [
    "myFirstLCA.supply_array"
   ]
  },
  {
   "cell_type": "code",
   "execution_count": null,
   "metadata": {},
   "outputs": [],
   "source": [
    "myFirstLCA.supply_array.shape"
   ]
  },
  {
   "cell_type": "markdown",
   "metadata": {},
   "source": [
    "**Inventory matrix**  \n",
    "Contains the inventory *by activity* (i.e. not summed). In other words, we do not have $g=BA^{-1}f$, but rather $G=B \\cdot diag(A^{-1}f)$"
   ]
  },
  {
   "cell_type": "code",
   "execution_count": null,
   "metadata": {},
   "outputs": [],
   "source": [
    "myFirstLCA.inventory"
   ]
  },
  {
   "cell_type": "markdown",
   "metadata": {},
   "source": [
    "We can aggregate the LCI results along the columns (i.e. calculate the cradle-to-gate inventory):"
   ]
  },
  {
   "cell_type": "code",
   "execution_count": null,
   "metadata": {},
   "outputs": [],
   "source": [
    "LCI_cradle_to_gate = myFirstLCA.inventory.sum(axis=1)\n",
    "LCI_cradle_to_gate.shape"
   ]
  },
  {
   "cell_type": "markdown",
   "metadata": {
    "solution2": "shown",
    "solution2_first": true
   },
   "source": [
    "**Exercise:** Get the total (cradle-to-gate) emissions of nitrous oxide emitted to air in the \"urban air\" subcompartment."
   ]
  },
  {
   "cell_type": "code",
   "execution_count": null,
   "metadata": {
    "solution2": "shown"
   },
   "outputs": [],
   "source": [
    "NOx_act = [act for act in my_bio if 'Dinitrogen monoxide' in act['name']\n",
    "                       and 'urban air close to ground' in str(act['categories'])\n",
    "         ][0]\n",
    "NOx_act.key"
   ]
  },
  {
   "cell_type": "code",
   "execution_count": null,
   "metadata": {
    "solution2": "shown"
   },
   "outputs": [],
   "source": [
    "NOx_row = myFirstLCA.biosphere_dict[NOx_act]\n",
    "NOx_row"
   ]
  },
  {
   "cell_type": "code",
   "execution_count": null,
   "metadata": {
    "solution2": "shown"
   },
   "outputs": [],
   "source": [
    "myFirstLCA.inventory[NOx_row, :].sum()"
   ]
  },
  {
   "cell_type": "markdown",
   "metadata": {},
   "source": [
    "### 2.7) LCIA"
   ]
  },
  {
   "cell_type": "markdown",
   "metadata": {},
   "source": [
    "The LCIA calculation is done via the `.lcia()` method."
   ]
  },
  {
   "cell_type": "code",
   "execution_count": null,
   "metadata": {
    "collapsed": true
   },
   "outputs": [],
   "source": [
    "myFirstLCA.lcia()"
   ]
  },
  {
   "cell_type": "markdown",
   "metadata": {},
   "source": [
    "A number of other matrices are now available:"
   ]
  },
  {
   "cell_type": "code",
   "execution_count": null,
   "metadata": {},
   "outputs": [],
   "source": [
    "# Matrix of characterization factors:\n",
    "myFirstLCA.characterization_matrix"
   ]
  },
  {
   "cell_type": "code",
   "execution_count": null,
   "metadata": {},
   "outputs": [],
   "source": [
    "myFirstLCA.characterization_matrix.shape"
   ]
  },
  {
   "cell_type": "code",
   "execution_count": null,
   "metadata": {},
   "outputs": [],
   "source": [
    "# Matrix of characterized inventory flows\n",
    "myFirstLCA.characterized_inventory"
   ]
  },
  {
   "cell_type": "markdown",
   "metadata": {},
   "source": [
    "Question: would there be more, less or just as many elements in the inventory matrix as there are in the characterized inventory matrix?"
   ]
  },
  {
   "cell_type": "markdown",
   "metadata": {},
   "source": [
    "The overall score is now an attribute of the LCA object: "
   ]
  },
  {
   "cell_type": "code",
   "execution_count": null,
   "metadata": {},
   "outputs": [],
   "source": [
    "myFirstLCA.score"
   ]
  },
  {
   "cell_type": "markdown",
   "metadata": {},
   "source": [
    "We also could have determined what this score was by summing the elements of our `characterized_inventory` matrix:"
   ]
  },
  {
   "cell_type": "code",
   "execution_count": null,
   "metadata": {},
   "outputs": [],
   "source": [
    "myFirstLCA.characterized_inventory.sum()"
   ]
  },
  {
   "cell_type": "markdown",
   "metadata": {},
   "source": [
    "We could also have calculated it by multiplying the inventory and characterization factors ourselves:"
   ]
  },
  {
   "cell_type": "code",
   "execution_count": null,
   "metadata": {},
   "outputs": [],
   "source": [
    "(myFirstLCA.characterization_matrix * myFirstLCA.inventory).sum()"
   ]
  },
  {
   "cell_type": "markdown",
   "metadata": {},
   "source": [
    "We could also calculate the score by elementary flow (summing columns for each rows), irrespective of the unit process that produced it:"
   ]
  },
  {
   "cell_type": "code",
   "execution_count": null,
   "metadata": {
    "collapsed": true
   },
   "outputs": [],
   "source": [
    "elementary_flow_contribution = myFirstLCA.characterized_inventory.sum(axis=1) #Axis is the dimension I want to sum over:"
   ]
  },
  {
   "cell_type": "code",
   "execution_count": null,
   "metadata": {},
   "outputs": [],
   "source": [
    "elementary_flow_contribution.shape"
   ]
  },
  {
   "cell_type": "markdown",
   "metadata": {},
   "source": [
    "Notice that is has **two** dimensions. The result is in fact a one-dimensional matrix:"
   ]
  },
  {
   "cell_type": "code",
   "execution_count": null,
   "metadata": {},
   "outputs": [],
   "source": [
    "type(elementary_flow_contribution)"
   ]
  },
  {
   "cell_type": "markdown",
   "metadata": {},
   "source": [
    "To convert it to an array (probably more useful for many purposes), you can use any of the following approaches:"
   ]
  },
  {
   "cell_type": "code",
   "execution_count": null,
   "metadata": {},
   "outputs": [],
   "source": [
    "elementary_flow_contribution.A1 \n",
    "#np.squeeze(np.asarray(elementary_flow_contribution))\n",
    "#np.asarray(elementary_flow_contribution).reshape(-1)\n",
    "#np.array(elementary_flow_contribution).flatten()\n",
    "#np.array(elementary_flow_contribution).ravel()"
   ]
  },
  {
   "cell_type": "markdown",
   "metadata": {
    "solution2": "shown",
    "solution2_first": true
   },
   "source": [
    "**Exercise:** Create a Pandas series that has the scores per unit process, sorted by value (contribution analysis)"
   ]
  },
  {
   "cell_type": "code",
   "execution_count": null,
   "metadata": {
    "collapsed": true
   },
   "outputs": [],
   "source": [
    "# Create array with the results per column (i.e. per activity)\n",
    "results_by_activity = (myFirstLCA.characterized_inventory.sum(axis=0)).A1"
   ]
  },
  {
   "cell_type": "code",
   "execution_count": null,
   "metadata": {},
   "outputs": [],
   "source": [
    "# Create a list of names in columns\n",
    "list_of_names_in_columns = [bw.get_activity(myFirstLCA_rev_act_dict[col])['name'] \n",
    "                            for col in range(myFirstLCA.characterized_inventory.shape[1])]"
   ]
  },
  {
   "cell_type": "code",
   "execution_count": null,
   "metadata": {},
   "outputs": [],
   "source": [
    "pd.Series(index=list_of_names_in_columns, data=results_by_activity).sort_values(ascending=False).head(10)"
   ]
  },
  {
   "cell_type": "markdown",
   "metadata": {},
   "source": [
    "## 3) My second LCA: Comparative LCA"
   ]
  },
  {
   "cell_type": "markdown",
   "metadata": {},
   "source": [
    "Let's choose two activities to compare, say Swiss electricity produced from respectively a run-of-river hydropower plant and a wind turbine."
   ]
  },
  {
   "cell_type": "markdown",
   "metadata": {
    "solution2": "shown",
    "solution2_first": true
   },
   "source": [
    "**Exercise**: assign the two activities to variables `hydro` and `wind` respectively."
   ]
  },
  {
   "cell_type": "code",
   "execution_count": null,
   "metadata": {
    "solution2": "shown"
   },
   "outputs": [],
   "source": [
    "[act for act in eidb if \"wind\" in act['name'] and \"electricity\" in act['name'] and \"CH\" in act['location']]"
   ]
  },
  {
   "cell_type": "code",
   "execution_count": null,
   "metadata": {
    "solution2": "shown"
   },
   "outputs": [],
   "source": [
    "wind = [act for act in eidb if \"wind\" in act['name']\n",
    "        and \"600kW\" in act['name'] \n",
    "        and \"kilowatt hour\" in act['unit']][0]\n",
    "wind"
   ]
  },
  {
   "cell_type": "code",
   "execution_count": null,
   "metadata": {
    "solution2": "shown"
   },
   "outputs": [],
   "source": [
    "[act for act in eidb if \"hydro\" in act['name'] and \"river\" in act['name'] and \"CH\" in act['location']]"
   ]
  },
  {
   "cell_type": "code",
   "execution_count": null,
   "metadata": {
    "solution2": "shown"
   },
   "outputs": [],
   "source": [
    "hydro = [act for act in eidb if \"hydro\" in act['name'] \n",
    "                     and \"river\" in act['name'] \n",
    "                     and \"CH\" in act['location']\n",
    "                     and \"kilowatt hour\" in act['unit']\n",
    "                     ][0]\n",
    "hydro"
   ]
  },
  {
   "cell_type": "markdown",
   "metadata": {},
   "source": [
    "Let's also compare these according to their carbon footprint as measured with the IPCC method we already selected above:"
   ]
  },
  {
   "cell_type": "code",
   "execution_count": null,
   "metadata": {},
   "outputs": [],
   "source": [
    "ipcc_2013_method"
   ]
  },
  {
   "cell_type": "markdown",
   "metadata": {},
   "source": [
    "#### One at a time approach:"
   ]
  },
  {
   "cell_type": "code",
   "execution_count": null,
   "metadata": {},
   "outputs": [],
   "source": [
    "hydroLCA = bw.LCA({hydro:1}, ipcc_2013_method.name)\n",
    "hydroLCA.lci()\n",
    "hydroLCA.lcia()\n",
    "hydroLCA.score"
   ]
  },
  {
   "cell_type": "markdown",
   "metadata": {
    "solution2": "shown",
    "solution2_first": true
   },
   "source": [
    "**Exercise:** Do the LCA for `wind`:"
   ]
  },
  {
   "cell_type": "code",
   "execution_count": null,
   "metadata": {
    "solution2": "shown"
   },
   "outputs": [],
   "source": [
    "windLCA = bw.LCA({wind:1}, ipcc_2013_method.name)\n",
    "windLCA.lci()\n",
    "windLCA.lcia()\n",
    "windLCA.score"
   ]
  },
  {
   "cell_type": "code",
   "execution_count": null,
   "metadata": {},
   "outputs": [],
   "source": [
    "#Compare results:\n",
    "if windLCA.score>hydroLCA.score:\n",
    "    print(\"Hydro is preferable\")\n",
    "elif windLCA.score<hydroLCA.score:\n",
    "    print(\"Wind is preferable\")\n",
    "else:\n",
    "    print(\"Both options have the same climate change indicator result\")"
   ]
  },
  {
   "cell_type": "markdown",
   "metadata": {},
   "source": [
    "Do one \"delta\" LCA:"
   ]
  },
  {
   "cell_type": "code",
   "execution_count": null,
   "metadata": {},
   "outputs": [],
   "source": [
    "deltaLCA = bw.LCA({wind:1, hydro:-1}, ipcc_2013_method.name)\n",
    "deltaLCA.lci()\n",
    "deltaLCA.lcia()\n",
    "deltaLCA.score"
   ]
  },
  {
   "cell_type": "code",
   "execution_count": null,
   "metadata": {},
   "outputs": [],
   "source": [
    "if deltaLCA.score>0:\n",
    "    print(\"Hydro is preferable\")\n",
    "elif deltaLCA.score<0:\n",
    "    print(\"Wind is preferable\")\n",
    "else:\n",
    "    print(\"Both options have the same climate change indicator result\")"
   ]
  },
  {
   "cell_type": "markdown",
   "metadata": {},
   "source": [
    "## 4) My third LCA - Multiple impact categories"
   ]
  },
  {
   "cell_type": "markdown",
   "metadata": {},
   "source": [
    "Say we want to evaluate the indicator results for our randomAct for all ILCD midpoint categories (with long-term emissions)."
   ]
  },
  {
   "cell_type": "code",
   "execution_count": null,
   "metadata": {},
   "outputs": [],
   "source": [
    "# Make a list of all impact method names (tuples):\n",
    "ILCD = [method for method in bw.methods if \"ILCD\" in str(method) and \"no LT\" not in str(method)]\n",
    "ILCD"
   ]
  },
  {
   "cell_type": "markdown",
   "metadata": {},
   "source": [
    "Simplest way: for loop, using `switch method`"
   ]
  },
  {
   "cell_type": "code",
   "execution_count": null,
   "metadata": {},
   "outputs": [],
   "source": [
    "myThirdLCA = bw.LCA({random_act:1}, ILCD[0]) # Do LCA with one impact category\n",
    "myThirdLCA.lci()\n",
    "myThirdLCA.lcia()\n",
    "for category in ILCD:\n",
    "    myThirdLCA.switch_method(category)\n",
    "    myThirdLCA.lcia()\n",
    "    print(\"Score is {:f} {} for category {}\".format(myThirdLCA.score, \n",
    "                                                 bw.Method(category).metadata['unit'],\n",
    "                                                 bw.Method(category).name)\n",
    "          )"
   ]
  },
  {
   "cell_type": "code",
   "execution_count": null,
   "metadata": {},
   "outputs": [],
   "source": [
    "myFirstLCA_unitProcessContribution = myFirstLCA.characterized_inventory.sum(axis=0).A1\n",
    "myFirstLCA_unitProcessRelativeContribution = myFirstLCA_unitProcessContribution/myFirstLCA.score"
   ]
  },
  {
   "cell_type": "markdown",
   "metadata": {},
   "source": [
    "## Revising my second and third LCA with `MultiLCA`"
   ]
  },
  {
   "cell_type": "markdown",
   "metadata": {},
   "source": [
    "The `MultiLCA` allows thecalculation of LCA results for multiple functional units and impact categories.  \n",
    "One simply needs to create a `calculation setup`, i.e. a named set of functional units and LCIA methods."
   ]
  },
  {
   "cell_type": "markdown",
   "metadata": {},
   "source": [
    "Calculation setups: dictionary with lists of functional units and methods."
   ]
  },
  {
   "cell_type": "code",
   "execution_count": null,
   "metadata": {
    "collapsed": true
   },
   "outputs": [],
   "source": [
    "list_functional_units = [{wind.key:1}, {hydro.key:1}]\n",
    "list_methods = ILCD"
   ]
  },
  {
   "cell_type": "code",
   "execution_count": null,
   "metadata": {
    "collapsed": true
   },
   "outputs": [],
   "source": [
    "bw.calculation_setups['wind_vs_hydro'] = {'inv':list_functional_units, 'ia':list_methods}"
   ]
  },
  {
   "cell_type": "code",
   "execution_count": null,
   "metadata": {},
   "outputs": [],
   "source": [
    "bw.calculation_setups['wind_vs_hydro']"
   ]
  },
  {
   "cell_type": "code",
   "execution_count": null,
   "metadata": {},
   "outputs": [],
   "source": [
    "myMultiLCA = bw.MultiLCA('wind_vs_hydro')"
   ]
  },
  {
   "cell_type": "code",
   "execution_count": null,
   "metadata": {},
   "outputs": [],
   "source": [
    "myMultiLCA.results.shape"
   ]
  },
  {
   "cell_type": "code",
   "execution_count": null,
   "metadata": {},
   "outputs": [],
   "source": [
    "myMultiLCA.results"
   ]
  },
  {
   "cell_type": "code",
   "execution_count": null,
   "metadata": {},
   "outputs": [],
   "source": [
    "pd.DataFrame(index=ILCD, columns=[wind['name'], hydro['name']], data=myMultiLCA.results.T)"
   ]
  },
  {
   "cell_type": "markdown",
   "metadata": {},
   "source": [
    "You can also create \"fuller\" DataFrames. Here is with code from [here](http://stackoverflow.com/questions/42984831/create-a-dataframe-from-multilca-results-in-brightway2): "
   ]
  },
  {
   "cell_type": "code",
   "execution_count": null,
   "metadata": {},
   "outputs": [],
   "source": [
    "scores = pd.DataFrame(myMultiLCA.results, columns=myMultiLCA.methods)\n",
    "as_activities = [\n",
    "    (bw.get_activity(key), amount) \n",
    "    for dct in myMultiLCA.func_units \n",
    "    for key, amount in dct.items()\n",
    "]\n",
    "nicer_fu = pd.DataFrame(\n",
    "    [\n",
    "        (x['database'], x['code'], x['name'], x['location'], x['unit'], y) \n",
    "        for x, y in as_activities\n",
    "    ], \n",
    "    columns=('Database', 'Code', 'Name', 'Location', 'Unit', 'Amount')\n",
    ")\n",
    "pd.concat([nicer_fu, scores], axis=1).T"
   ]
  },
  {
   "cell_type": "markdown",
   "metadata": {},
   "source": [
    "You can even generate beautiful heatmaps like this in a relatively easy way, see example notebook [here](http://nbviewer.jupyter.org/urls/bitbucket.org/cmutel/brightway2/raw/default/notebooks/Using%20calculation%20setups.ipynb).\n",
    "\n",
    "<img src=\"images/multiLCA_heatmap.JPG\">"
   ]
  },
  {
   "cell_type": "markdown",
   "metadata": {},
   "source": [
    "Done with deterministic LCA using only existing database items!"
   ]
  }
 ],
 "metadata": {
  "kernelspec": {
   "display_name": "Python 3",
   "language": "python",
   "name": "python3"
  },
  "language_info": {
   "codemirror_mode": {
    "name": "ipython",
    "version": 3
   },
   "file_extension": ".py",
   "mimetype": "text/x-python",
   "name": "python",
   "nbconvert_exporter": "python",
   "pygments_lexer": "ipython3",
   "version": "3.7.6"
  },
  "widgets": {
   "state": {},
   "version": "1.1.2"
  }
 },
 "nbformat": 4,
 "nbformat_minor": 1
}
