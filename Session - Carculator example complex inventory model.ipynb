{
 "cells": [
  {
   "cell_type": "markdown",
   "metadata": {},
   "source": [
    "# Car model\n",
    "\n",
    "*Note*: This notebook was adapted from the [carculator examples](https://github.com/romainsacchi/carculator/tree/master/examples)."
   ]
  },
  {
   "cell_type": "markdown",
   "metadata": {},
   "source": [
    "Import the library"
   ]
  },
  {
   "cell_type": "code",
   "execution_count": null,
   "metadata": {},
   "outputs": [],
   "source": [
    "from carculator import *\n",
    "import numpy as np\n",
    "import matplotlib.pyplot as plt"
   ]
  },
  {
   "cell_type": "markdown",
   "metadata": {},
   "source": [
    "Load the default car parameters"
   ]
  },
  {
   "cell_type": "code",
   "execution_count": null,
   "metadata": {},
   "outputs": [],
   "source": [
    "cip = CarInputParameters()"
   ]
  },
  {
   "cell_type": "markdown",
   "metadata": {},
   "source": [
    "Define the calculation mode: static or stochastic(number of iterations)\n",
    "* `static`: the model use one value for each parameter: the most likely value\n",
    "* `stochastic`: the model uses a range of values pseudo-randomly generated on the basis of a probability distribution. The number of values generated is given by the integer argument passed to `.stochastic()`"
   ]
  },
  {
   "cell_type": "code",
   "execution_count": null,
   "metadata": {},
   "outputs": [],
   "source": [
    "cip.static()"
   ]
  },
  {
   "cell_type": "markdown",
   "metadata": {},
   "source": [
    "Fill-in the array that will be used to create the car models"
   ]
  },
  {
   "cell_type": "code",
   "execution_count": null,
   "metadata": {},
   "outputs": [],
   "source": [
    "dcts, array = fill_xarray_from_input_parameters(cip)"
   ]
  },
  {
   "cell_type": "markdown",
   "metadata": {},
   "source": [
    "We can check the powertrains, sizes and yers considered"
   ]
  },
  {
   "cell_type": "code",
   "execution_count": null,
   "metadata": {},
   "outputs": [],
   "source": [
    "list(array.powertrain.values)"
   ]
  },
  {
   "cell_type": "code",
   "execution_count": null,
   "metadata": {},
   "outputs": [],
   "source": [
    "list(array.year.values)"
   ]
  },
  {
   "cell_type": "markdown",
   "metadata": {},
   "source": [
    "It is possible to derive car models for other years by interpolating between 2017 and 2040 (or extrapolating beyond 2040 or before 2017)."
   ]
  },
  {
   "cell_type": "code",
   "execution_count": null,
   "metadata": {},
   "outputs": [],
   "source": [
    "array = array.interp(year=[2018, 2022, 2035, 2040, 2045, 2050],  kwargs={'fill_value': 'extrapolate'})"
   ]
  },
  {
   "cell_type": "markdown",
   "metadata": {},
   "source": [
    "We can create now the car models, using the default parameters, while specifying a driving cycle"
   ]
  },
  {
   "cell_type": "code",
   "execution_count": null,
   "metadata": {},
   "outputs": [],
   "source": [
    "cm = CarModel(array, cycle='WLTC')"
   ]
  },
  {
   "cell_type": "code",
   "execution_count": null,
   "metadata": {},
   "outputs": [],
   "source": [
    "cm.set_all()"
   ]
  },
  {
   "cell_type": "code",
   "execution_count": null,
   "metadata": {},
   "outputs": [],
   "source": [
    "[p for p in cm.array.coords[\"parameter\"].values if \"engine efficiency\" in p]"
   ]
  },
  {
   "cell_type": "code",
   "execution_count": null,
   "metadata": {},
   "outputs": [],
   "source": [
    "cm.array.sel(powertrain=\"ICEV-d\", year=2018, size=\"Large\", parameter=\"engine efficiency\")"
   ]
  },
  {
   "cell_type": "markdown",
   "metadata": {},
   "source": [
    "Alternatively, we can override specific parameters value, by passing a dictionary or a filepath to an Excel file.\n",
    "For example, we can to lower the lifetime (expressed in kilometers) of the vehicles:"
   ]
  },
  {
   "cell_type": "code",
   "execution_count": null,
   "metadata": {},
   "outputs": [],
   "source": [
    "dict_param = {('Driving', 'all', 'all', 'lifetime kilometers', 'none'): {(2018, 'loc'): 150000, (2040, 'loc'): 150000}}\n",
    "\n",
    "modify_xarray_from_custom_parameters(dict_param, array)\n",
    "cm = CarModel(array, cycle='WLTC')\n",
    "cm.set_all()"
   ]
  },
  {
   "cell_type": "markdown",
   "metadata": {},
   "source": [
    "Let's look at the Tank-to-wheel energy, for a Large diesel"
   ]
  },
  {
   "cell_type": "code",
   "execution_count": null,
   "metadata": {},
   "outputs": [],
   "source": [
    "cm.array.sel(powertrain='ICEV-d', size='Large', value=0, parameter='TtW energy')"
   ]
  },
  {
   "cell_type": "markdown",
   "metadata": {},
   "source": [
    "One can print the list of input and calculated parameters"
   ]
  },
  {
   "cell_type": "code",
   "execution_count": null,
   "metadata": {},
   "outputs": [],
   "source": [
    "cip.parameters"
   ]
  },
  {
   "cell_type": "code",
   "execution_count": null,
   "metadata": {},
   "outputs": [],
   "source": [
    "cm.array.sel(value=0, parameter='curb mass')"
   ]
  },
  {
   "cell_type": "code",
   "execution_count": null,
   "metadata": {},
   "outputs": [],
   "source": [
    "cm.array.sel(powertrain='ICEV-d', size='Large', value=0, parameter='TtW energy')"
   ]
  },
  {
   "cell_type": "markdown",
   "metadata": {},
   "source": [
    "We can also override calculated parameters. For example, the driving mass:"
   ]
  },
  {
   "cell_type": "code",
   "execution_count": null,
   "metadata": {},
   "outputs": [],
   "source": [
    "cm.array.loc['Large','ICEV-d','driving mass',:] = np.linspace(2000, 2200, 6).reshape((-1, 1))"
   ]
  },
  {
   "cell_type": "code",
   "execution_count": null,
   "metadata": {},
   "outputs": [],
   "source": [
    "cm.array.loc['Large','ICEV-d','driving mass',:] "
   ]
  },
  {
   "cell_type": "code",
   "execution_count": null,
   "metadata": {},
   "outputs": [],
   "source": [
    "cm.set_ttw_efficiency()\n",
    "cm.calculate_ttw_energy()"
   ]
  },
  {
   "cell_type": "markdown",
   "metadata": {},
   "source": [
    "We can now see that the Tank to wheel parameter value is different since we increased the driving mass of the vehicle."
   ]
  },
  {
   "cell_type": "code",
   "execution_count": null,
   "metadata": {},
   "outputs": [],
   "source": [
    "cm.array.sel(powertrain='ICEV-d', size='Large', value=0, parameter='TtW energy')"
   ]
  },
  {
   "cell_type": "markdown",
   "metadata": {},
   "source": [
    "We can also change the driving cycle, among those offered:\n",
    "* WLTC\n",
    "* WLTC 3.1\n",
    "* WLTC 3.2\n",
    "* WLTC 3.3\n",
    "* WLTC 3.4\n",
    "* CADC Urban\n",
    "* CADC Road\n",
    "* CADC Motorway\n",
    "* CADC Motorway 130\n",
    "* CADC\n",
    "* NEDC"
   ]
  },
  {
   "cell_type": "code",
   "execution_count": null,
   "metadata": {},
   "outputs": [],
   "source": [
    "cm = CarModel(array, cycle='CADC')\n",
    "cm.set_all()\n",
    "cm.array.sel(powertrain='ICEV-d', size='Large', value=0, parameter='TtW energy')"
   ]
  },
  {
   "cell_type": "markdown",
   "metadata": {},
   "source": [
    "Or even add our own driving cycle"
   ]
  },
  {
   "cell_type": "code",
   "execution_count": null,
   "metadata": {},
   "outputs": [],
   "source": [
    "x = np.linspace(1, 1000)\n",
    "def f(x):\n",
    "    return np.sin(x) + np.random.normal(scale=20, size=len(x)) + 70\n",
    "plt.plot(x, f(x))"
   ]
  },
  {
   "cell_type": "code",
   "execution_count": null,
   "metadata": {},
   "outputs": [],
   "source": [
    "cycle = f(x)\n",
    "cm = CarModel(array, cycle=cycle)\n",
    "cm.set_all()\n",
    "cm.array.sel(powertrain='ICEV-d', size='Large', value=0, parameter='TtW energy')"
   ]
  },
  {
   "cell_type": "markdown",
   "metadata": {},
   "source": [
    "We can plot any attributes of the car models. For example here, the tank to wheel energy of all electric cars in 2018."
   ]
  },
  {
   "cell_type": "code",
   "execution_count": null,
   "metadata": {},
   "outputs": [],
   "source": [
    "TtW_energy = cm.array.sel(powertrain='BEV', year=2018, parameter='TtW energy', value=0) * 1/3600 * 100\n",
    "labels = cm.array.coords[\"size\"].values.tolist()\n",
    "\n",
    "plt.bar(labels, TtW_energy)\n",
    "plt.ylabel('kWh/100 km')\n",
    "plt.show()"
   ]
  },
  {
   "cell_type": "markdown",
   "metadata": {},
   "source": [
    "The same can be done considering uncertainties in input parameters"
   ]
  },
  {
   "cell_type": "code",
   "execution_count": null,
   "metadata": {},
   "outputs": [],
   "source": [
    "cip = CarInputParameters()\n",
    "# 50 iterations\n",
    "cip.stochastic(50)\n",
    "dcts, array = fill_xarray_from_input_parameters(cip)\n",
    "cm = CarModel(array, cycle='CADC')\n",
    "cm.set_all()\n",
    "TtW_energy = cm.array.sel(size='SUV', year=2017, parameter='TtW energy') * 1/3600 * 100\n",
    "\n",
    "l_powertrains = TtW_energy.powertrain\n",
    "[plt.hist(e, bins=50, alpha=.8, label=e.powertrain.values) for e in TtW_energy]\n",
    "plt.ylabel('kWh/100 km')\n",
    "plt.legend()"
   ]
  },
  {
   "cell_type": "markdown",
   "metadata": {},
   "source": [
    "Or in terms of km/L of petrol-equivalent"
   ]
  },
  {
   "cell_type": "code",
   "execution_count": null,
   "metadata": {},
   "outputs": [],
   "source": [
    "cip = CarInputParameters()\n",
    "cip.stochastic(800)\n",
    "dcts, array = fill_xarray_from_input_parameters(cip)\n",
    "cm = CarModel(array, cycle='WLTC 3.4')\n",
    "cm.set_all()\n",
    "TtW_energy = 1 / (cm.array.sel(size='SUV', year=2017, parameter='TtW energy') / 42000) # assuming 42 MJ/L petrol\n",
    "\n",
    "l_powertrains = TtW_energy.powertrain\n",
    "[plt.hist(e, bins=50, alpha=.8, label=e.powertrain.values) for e in TtW_energy]\n",
    "plt.xlabel('km/L petrol-equivalent')\n",
    "plt.ylabel('number of iterations')\n",
    "plt.legend()"
   ]
  },
  {
   "cell_type": "markdown",
   "metadata": {},
   "source": [
    "We can check the randomly generated values for any parameter like so. Here, for the tank to wheel energy in kWh/100 km."
   ]
  },
  {
   "cell_type": "code",
   "execution_count": null,
   "metadata": {},
   "outputs": [],
   "source": [
    "cm.array.sel(size='SUV', year=2017, parameter='TtW energy', value=0) * 1/3600 * 100"
   ]
  },
  {
   "cell_type": "markdown",
   "metadata": {},
   "source": [
    "We can look at noise emissions. We see that most noise is emitted in rura environment. Noise emissions are dependent of the driving cycle chosen."
   ]
  },
  {
   "cell_type": "code",
   "execution_count": null,
   "metadata": {},
   "outputs": [],
   "source": [
    "list_param = list(cm.array.parameter.values)\n",
    "noise_emissions = [x for x in list_param if 'noise' in x]\n",
    "data = cm.array.sel(parameter=noise_emissions, year=2017, size='Van', powertrain='ICEV-p', value=0)\\\n",
    "    .to_dataframe(name='noise emissions')['noise emissions']\n",
    "data[data>0].plot(kind='bar')\n",
    "plt.ylabel('joules per km')"
   ]
  },
  {
   "cell_type": "markdown",
   "metadata": {},
   "source": [
    "Calculation of the inventories"
   ]
  },
  {
   "cell_type": "code",
   "execution_count": null,
   "metadata": {},
   "outputs": [],
   "source": [
    "ic = InventoryCalculation(cm.array)"
   ]
  },
  {
   "cell_type": "markdown",
   "metadata": {},
   "source": [
    "We can have a look at the underlying technology matrix"
   ]
  },
  {
   "cell_type": "code",
   "execution_count": null,
   "metadata": {},
   "outputs": [],
   "source": [
    "ic.A"
   ]
  },
  {
   "cell_type": "markdown",
   "metadata": {},
   "source": [
    "The labels of its rows and columns"
   ]
  },
  {
   "cell_type": "code",
   "execution_count": null,
   "metadata": {},
   "outputs": [],
   "source": [
    "ic.inputs"
   ]
  },
  {
   "cell_type": "markdown",
   "metadata": {},
   "source": [
    "For now, only the Recipe Midpoint methods are present. LCIA scores can be obtained this way:"
   ]
  },
  {
   "cell_type": "code",
   "execution_count": null,
   "metadata": {},
   "outputs": [],
   "source": [
    "cip = CarInputParameters()\n",
    "cip.static()\n",
    "dcts, array = fill_xarray_from_input_parameters(cip)\n",
    "cm = CarModel(array, cycle='WLTC')\n",
    "cm.set_all()\n",
    "ic = InventoryCalculation(cm.array)\n",
    "results = ic.calculate_impacts()"
   ]
  },
  {
   "cell_type": "code",
   "execution_count": null,
   "metadata": {},
   "outputs": [],
   "source": [
    "results.sel(impact_category='climate change', size='Large', value=0).to_dataframe('impact').unstack(level=2)['impact'].plot(kind='bar',\n",
    "                stacked=True)\n",
    "plt.ylabel('kg CO2-eq./vkm')\n",
    "plt.show()"
   ]
  },
  {
   "cell_type": "markdown",
   "metadata": {},
   "source": [
    "# Sensitivity analysis"
   ]
  },
  {
   "cell_type": "markdown",
   "metadata": {},
   "source": [
    "`carculator` has a function to claculate the sensitivity of characterized results in regard to the inputs parameters of `CarModel`. This function generates a number of \"scenarios\" within which one input parameter has its value increased by 10%. The newly calculated results are stored and compared to the reference scneario (where none of the input parameter values are modified)."
   ]
  },
  {
   "cell_type": "markdown",
   "metadata": {},
   "source": [
    "To do so, we run the model in **static** mode, but we give the argument `sensitivity=True` to `fill_xarray_from_input_parameters()` and `calculate_impacts()`."
   ]
  },
  {
   "cell_type": "code",
   "execution_count": null,
   "metadata": {},
   "outputs": [],
   "source": [
    "cip = CarInputParameters()\n",
    "cip.static()\n",
    "\n",
    "_, array = fill_xarray_from_input_parameters(cip, sensitivity=True)\n",
    "cm = CarModel(array, cycle='WLTC')\n",
    "cm.set_all()\n",
    "\n",
    "ic = InventoryCalculation(cm.array, scope={\"size\":[\"Large\"], \"powertrain\":[\"ICEV-d\", \"BEV\"], \"year\":[2017]})\n",
    "res = ic.calculate_impacts(sensitivity=True)"
   ]
  },
  {
   "cell_type": "markdown",
   "metadata": {},
   "source": [
    "We retrieve an array that contains characterized results for a number of scenarios (where only one parameter value is increased in each scenario), normalized in regard to the reference scenario. Hence, values above 1 indicate that increasing the parameter value given in the `parameter` dimension of the array by 10% led to an increase in the characterized results (for the impact category selected).\n",
    "\n",
    "We can turn the array into a `pandas` dataframe for better visualization. We can also remove the results that equal to 1 (which indicate that increasing the value of the selected parameter by 10% had no influence on the characterized result).\n",
    "\n",
    "Let's see the result for a battery electric vehicle in 2017, in regard to the impact category **Climate change**."
   ]
  },
  {
   "cell_type": "code",
   "execution_count": null,
   "metadata": {},
   "outputs": [],
   "source": [
    "df = res.sel(impact_category=\"climate change\", powertrain=\"BEV\", size=\"Large\", year=2017).to_dataframe(\"climate change influence\")\n",
    "df = df.loc[df[\"climate change influence\"] != 1,:]\n",
    "df[\"climate change influence\"] -= 1 \n",
    "df[\"climate change influence\"] *= 100 \n",
    "df = df.sort_values(\"climate change influence\", ascending=True)\n",
    "df.plot(y = \"climate change influence\", kind=\"bar\")\n",
    "plt.ylabel(\"Change in GWP100a results [%]\")\n",
    "plt.title(\"Parameters value increased by 10%\")"
   ]
  },
  {
   "cell_type": "markdown",
   "metadata": {},
   "source": [
    "Therefore, we can see that the characterized results for **Climate change** are negatively influenced by changes of +10% in the parameter value for the charge and discharge efficiency of the battery as well as the drivetrain and engine efficiency.\n",
    "\n",
    "On the other end, the results are positively influenced by changes in the parameter value for the glider base mass, the mas s of the battery and the aerodynamic of the vehicle."
   ]
  },
  {
   "cell_type": "markdown",
   "metadata": {},
   "source": [
    "# Export inventories"
   ]
  },
  {
   "cell_type": "markdown",
   "metadata": {},
   "source": [
    "Inventories in `static` calculation mode can be exported to different formats:\n",
    "* as an Excel file compatible for import with `brightway2`\n",
    "* a Brightway2 LCIImporter object\n",
    "* a Python dictionary"
   ]
  },
  {
   "cell_type": "markdown",
   "metadata": {},
   "source": [
    "## Export inventories without uncertainty \n",
    "\n",
    "Inventories are exported to an Excel file which can later be imported into `brightway2`. The `export_to_excel()` function returns the filepath where the Excel file can be found (the same directory as the script calling it)."
   ]
  },
  {
   "cell_type": "code",
   "execution_count": null,
   "metadata": {},
   "outputs": [],
   "source": [
    "cm.array['powertrain']"
   ]
  },
  {
   "cell_type": "code",
   "execution_count": null,
   "metadata": {},
   "outputs": [],
   "source": [
    "cip = CarInputParameters()\n",
    "cip.static()\n",
    "dcts, array = fill_xarray_from_input_parameters(cip)\n",
    "cm = CarModel(array, cycle='WLTC')\n",
    "cm.set_all()\n",
    "\n",
    "scope = {\n",
    "    'powertrain':['ICEV-d', 'PHEV-p'],\n",
    "}\n",
    "\n",
    "ic = InventoryCalculation(cm.array, scope=scope)\n",
    "\n",
    "#ic.export_lci_to_excel()"
   ]
  },
  {
   "cell_type": "code",
   "execution_count": null,
   "metadata": {},
   "outputs": [],
   "source": [
    "ic.get_dict_impact_categories()"
   ]
  },
  {
   "cell_type": "markdown",
   "metadata": {},
   "source": [
    "Here, the inventory is instead returned as a `brightway2` LCIImporter object, which can be directly registered into `brightway2`."
   ]
  },
  {
   "cell_type": "code",
   "execution_count": null,
   "metadata": {},
   "outputs": [],
   "source": [
    "i, _ = ic.export_lci_to_bw()"
   ]
  },
  {
   "cell_type": "code",
   "execution_count": null,
   "metadata": {},
   "outputs": [],
   "source": [
    "import brightway2 as bw\n",
    "bw.projects.set_current('import_36_for_carculator')\n",
    "\n",
    "if \"additional_biosphere\" in bw.databases:\n",
    "    del bw.databases['additional_biosphere']\n",
    "if \"carculator export\" in bw.databases:\n",
    "    del bw.databases['carculator export']\n",
    "    i.apply_strategies()\n",
    "\n",
    "i.match_database('ecoinvent 3.6 cutoff', fields=('name', 'unit', 'location', 'reference product'))\n",
    "i.match_database(\"biosphere3\", fields=('name', 'unit', 'categories'))\n",
    "i.match_database(fields=('name', 'unit', 'location', 'reference product'))\n",
    "i.match_database(fields=('name', 'unit', 'categories'))\n",
    "i.create_new_biosphere(\"additional_biosphere\", relink=True)\n",
    "i.statistics()\n",
    "#i.write_database()"
   ]
  },
  {
   "cell_type": "markdown",
   "metadata": {},
   "source": [
    "Finally, the inventory can be exported as a Python dictionary"
   ]
  },
  {
   "cell_type": "code",
   "execution_count": null,
   "metadata": {},
   "outputs": [],
   "source": [
    "lci, _ = ic.export_lci()"
   ]
  },
  {
   "cell_type": "code",
   "execution_count": null,
   "metadata": {},
   "outputs": [],
   "source": [
    "lci[0]"
   ]
  },
  {
   "cell_type": "markdown",
   "metadata": {},
   "source": [
    "# Export inventories with uncertainty\n",
    "\n",
    "Additionally, if the model has been run in `stochastic` mode, the exported inventories will include uncertainty information. The uncertainty of a given exchange is expressed as an array of values to be reused for pre-sampling by `brightway2`.\n",
    "\n",
    "Therefore, alongside the inventory, an array that stores the pre-sampled random values generated by CarModel for each uncertain exchange is returned. This array of pre-sampled values can then be passed to the Monte Carlo function of `brightway2` which will use these values instead of randomly generated ones. This has the advantage of preserving the relation between inputs and outputs of a same activity.\n"
   ]
  },
  {
   "cell_type": "code",
   "execution_count": null,
   "metadata": {},
   "outputs": [],
   "source": [
    "from carculator import *\n",
    "import matplotlib.pyplot as plt\n",
    "cip = CarInputParameters()\n",
    "# 100 iterations\n",
    "cip.stochastic(100)\n",
    "_, array = fill_xarray_from_input_parameters(cip)\n",
    "array = array.interp(year=[2028, 2042],  kwargs={'fill_value': 'extrapolate'})\n",
    "cm = CarModel(array, cycle='NEDC')\n",
    "cm.set_all() "
   ]
  },
  {
   "cell_type": "markdown",
   "metadata": {},
   "source": [
    "Build the inventory for a large diesel car in 2028"
   ]
  },
  {
   "cell_type": "code",
   "execution_count": null,
   "metadata": {},
   "outputs": [],
   "source": [
    "ic = InventoryCalculation(cm.array, scope={\"size\":['Large'], \"powertrain\":['ICEV-d'], \"year\":[2028]})"
   ]
  },
  {
   "cell_type": "markdown",
   "metadata": {},
   "source": [
    "Receive the inventory as a brightway2 LCIImporter object, as well as the arrays that contain pre-sampled values"
   ]
  },
  {
   "cell_type": "code",
   "execution_count": null,
   "metadata": {},
   "outputs": [],
   "source": [
    "lci, arr = ic.export_lci_to_bw()"
   ]
  },
  {
   "cell_type": "markdown",
   "metadata": {},
   "source": [
    "Open a brightway2 project where ecoinvent 3.6 is installed"
   ]
  },
  {
   "cell_type": "code",
   "execution_count": null,
   "metadata": {},
   "outputs": [],
   "source": [
    "import brightway2 as bw\n",
    "bw.projects.set_current('import_36_for_carculator')"
   ]
  },
  {
   "cell_type": "markdown",
   "metadata": {},
   "source": [
    "Import the inventory into the Brightway project"
   ]
  },
  {
   "cell_type": "code",
   "execution_count": null,
   "metadata": {},
   "outputs": [],
   "source": [
    "import bw2io\n",
    "i = lci\n",
    "if \"additional_biosphere\" in bw.databases:\n",
    "    del bw.databases['additional_biosphere']\n",
    "if \"carculator export\" in bw.databases:\n",
    "    del bw.databases['carculator export']\n",
    "i.apply_strategies()\n",
    "\n",
    "i.match_database('ecoinvent 3.6 cutoff', fields=('name', 'unit', 'location', 'reference product'))\n",
    "i.match_database(\"biosphere3\", fields=('name', 'unit', 'categories'))\n",
    "\n",
    "i.match_database(fields=('name', 'unit', 'location', 'reference product'))\n",
    "i.match_database(fields=('name', 'unit', 'categories'))\n",
    "i.create_new_biosphere(\"additional_biosphere\", relink=False)\n",
    "i.match_database(\"additional_biosphere\", fields=('name', 'unit', 'categories'))\n",
    "i.statistics()\n",
    "i.write_database()"
   ]
  },
  {
   "cell_type": "markdown",
   "metadata": {},
   "source": [
    "While simple LCA calculations can be directly performed on the newly imported inventory, for Monte Carlo analyses with presamples, the imported inventory needs to be merged with the ecoinvent database.\n",
    "Merge the newly imported inventory with ecoinvent 3.6"
   ]
  },
  {
   "cell_type": "code",
   "execution_count": null,
   "metadata": {},
   "outputs": [],
   "source": [
    "import bw2data\n",
    "bw2data.utils.merge_databases('ecoinvent 3.6 cutoff', 'carculator export')"
   ]
  },
  {
   "cell_type": "markdown",
   "metadata": {},
   "source": [
    "We need to reformat the pre-samples array with the correct activity codes"
   ]
  },
  {
   "cell_type": "code",
   "execution_count": null,
   "metadata": {},
   "outputs": [],
   "source": [
    "l_flows = []\n",
    "for a in arr:\n",
    "    l_flows.extend([a[1][0][0], a[1][0][1]])\n",
    "\n",
    "l_flows = set(l_flows)\n",
    "d_flows = {}\n",
    "\n",
    "\n",
    "for ds in bw.Database('biosphere3'):\n",
    "    if (ds['name'], tuple(ds['categories']), ds['unit']) in l_flows:\n",
    "        d_flows[(ds['name'], tuple(ds['categories']), ds['unit'])] = (ds['database'], ds['code'])\n",
    "\n",
    "for ds in bw.Database('carculator export'):\n",
    "    if (ds['name'], ds['location'], ds['unit'], ds['reference product']) in l_flows:\n",
    "        d_flows[(ds['name'], ds['location'], ds['unit'], ds['reference product'])] = (ds['database'], ds['code'])\n",
    "        \n",
    "for ds in bw.Database('ecoinvent 3.6 cutoff'):\n",
    "    if (ds['name'], ds['location'], ds['unit'], ds['reference product']) in l_flows:\n",
    "        d_flows[(ds['name'], ds['location'], ds['unit'], ds['reference product'])] = (ds['database'], ds['code'])\n",
    "\n",
    "\n",
    "        \n",
    "presamples_arr = []     \n",
    "for a in range(0,len(arr)):\n",
    "    if arr[a][1][0][0] in d_flows:\n",
    "        presamples_arr.append(\n",
    "            (arr[a][0].reshape((1,-1)),\n",
    "                  [(d_flows[arr[a][1][0][0]],\n",
    "                   d_flows[arr[a][1][0][1]],\n",
    "                   arr[a][1][0][2])],\n",
    "                  arr[a][2]))"
   ]
  },
  {
   "cell_type": "markdown",
   "metadata": {},
   "source": [
    "Then, we build a matrix that contains the arrays with the presampled values, to be consumed by the Monte Carlo function"
   ]
  },
  {
   "cell_type": "code",
   "execution_count": null,
   "metadata": {},
   "outputs": [],
   "source": [
    "# Build the pre-samples array\n",
    "import presamples\n",
    "pp_id, stochastic_filepath = presamples.create_presamples_package(presamples_arr, name='presamples_carculator')"
   ]
  },
  {
   "cell_type": "code",
   "execution_count": null,
   "metadata": {},
   "outputs": [],
   "source": [
    "# Build the functional unit\n",
    "multi_FU = [{a:1} for a in bw.Database('ecoinvent 3.6 cutoff') if 'Passenger' in a['name']][:5]\n",
    "multi_FU"
   ]
  },
  {
   "cell_type": "markdown",
   "metadata": {},
   "source": [
    "We then run the Monte Carlo function by giving it the matrix of presamples as an argument"
   ]
  },
  {
   "cell_type": "code",
   "execution_count": null,
   "metadata": {},
   "outputs": [],
   "source": [
    "# Run the Monte Carlo analysis with the pre-samples array\n",
    "import numpy as np\n",
    "iterations=500\n",
    "results = np.zeros((iterations, len(multi_FU)))\n",
    "mc = bw.MonteCarloLCA(multi_FU[0], ('IPCC 2013', 'climate change', 'GWP 100a'), presamples=[stochastic_filepath])\n",
    "\n",
    "for i in range(iterations):\n",
    "    print(i)\n",
    "    next(mc)\n",
    "    for j, fu in enumerate(multi_FU):\n",
    "        mc.redo_lcia(fu)\n",
    "        results[i, j] = mc.score"
   ]
  },
  {
   "cell_type": "markdown",
   "metadata": {},
   "source": [
    "We can now visualize the results: a Monte Carlo analysis where randomly generated values for inputs and ouputs preserve their relation."
   ]
  },
  {
   "cell_type": "code",
   "execution_count": null,
   "metadata": {},
   "outputs": [],
   "source": [
    "import matplotlib.pyplot as plt\n",
    "plt.boxplot(results)\n",
    "plt.title('MC with pre-sampled values (500 iterations), Large Diesel, 2028')\n",
    "plt.ylabel(\"kg CO2-eq./km\")\n",
    "plt.show()"
   ]
  }
 ],
 "metadata": {
  "kernelspec": {
   "display_name": "Python 3",
   "language": "python",
   "name": "python3"
  },
  "language_info": {
   "codemirror_mode": {
    "name": "ipython",
    "version": 3
   },
   "file_extension": ".py",
   "mimetype": "text/x-python",
   "name": "python",
   "nbconvert_exporter": "python",
   "pygments_lexer": "ipython3",
   "version": "3.7.6"
  }
 },
 "nbformat": 4,
 "nbformat_minor": 2
}
